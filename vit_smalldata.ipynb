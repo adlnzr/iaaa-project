{
 "cells": [
  {
   "cell_type": "code",
   "execution_count": 1,
   "metadata": {},
   "outputs": [
    {
     "data": {
      "text/plain": [
       "\"\\nthere are two main ViT concepts in the model architecture\\n\\n1- VisionTransformerSPT_LSA \\ninput: iamges of each patient (sequence of patches) -> \\noutput: CLS of each image \\n\\nmodel: (ShiftedPatchTokenization + 12-layer transformer encoder layer + LocalitySelfAttention)\\n\\n2- StandardViT\\ninput: stacked CLS's of each patient (sequence of CLS's) ->  \\noutput: CLS of each patient -> classifier\\n\\nmodel: (12-layer transformer encoder layer)\\n\\n\""
      ]
     },
     "execution_count": 1,
     "metadata": {},
     "output_type": "execute_result"
    }
   ],
   "source": [
    "'''\n",
    "there are two main ViT concepts in the model architecture\n",
    "\n",
    "1- VisionTransformerSPT_LSA \n",
    "input: iamges of each patient (sequence of patches) -> \n",
    "output: CLS of each image \n",
    "\n",
    "model: (ShiftedPatchTokenization + 12-layer transformer encoder layer + LocalitySelfAttention)\n",
    "\n",
    "2- StandardViT\n",
    "input: stacked CLS's of each patient (sequence of CLS's) ->  \n",
    "output: CLS of each patient -> classifier\n",
    "\n",
    "model: (12-layer transformer encoder layer)\n",
    "\n",
    "'''"
   ]
  },
  {
   "cell_type": "code",
   "execution_count": 2,
   "metadata": {},
   "outputs": [],
   "source": [
    "import torch\n",
    "import torch.nn as nn\n",
    "import torch.optim as optim\n",
    "from torchvision import transforms\n",
    "from torch.utils.data import DataLoader\n",
    "import pandas as pd\n",
    "import numpy as np\n",
    "import os\n",
    "import ssl\n",
    "from sklearn.utils.class_weight import compute_class_weight\n",
    "\n",
    "from config import Config, Device\n",
    "from datasets import MRIDataset, BalancedMRIDataset\n",
    "from models import VisionTransformerSPT_LSA, VisionTransformerForTokens\n",
    "from trainer import Trainer_ViT_smalldata\n",
    "from tester import Tester_ViT_smalldata"
   ]
  },
  {
   "cell_type": "code",
   "execution_count": 3,
   "metadata": {},
   "outputs": [
    {
     "name": "stdout",
     "output_type": "stream",
     "text": [
      "cuda\n"
     ]
    }
   ],
   "source": [
    "device = Device.device\n",
    "print(device)"
   ]
  },
  {
   "cell_type": "code",
   "execution_count": 4,
   "metadata": {},
   "outputs": [],
   "source": [
    "# data_path = os.path.join(os.getcwd(), \"data\")\n",
    "# labels_path = \"train.csv\"\n",
    "\n",
    "# batch_size = Config.batch_size\n",
    "# num_epochs = Config.num_epochs\n",
    "# learning_rate = Config.learning_rate\n",
    "# mean = Config.mean  # mean of the entire datasaet\n",
    "# std = Config.std  # std of the entire dataaset\n",
    "# image_size = 224"
   ]
  },
  {
   "cell_type": "code",
   "execution_count": 5,
   "metadata": {},
   "outputs": [],
   "source": [
    "data_path = os.path.join(os.getcwd(), \"data\")\n",
    "labels_path = \"train.csv\"\n",
    "\n",
    "transforms = transforms.Compose([\n",
    "    transforms.ToTensor(),\n",
    "    transforms.Resize((224, 224)),\n",
    "    transforms.Normalize(mean=0.5, std=0.5)\n",
    "])\n",
    "\n",
    "batch_size = 16"
   ]
  },
  {
   "cell_type": "code",
   "execution_count": 6,
   "metadata": {},
   "outputs": [],
   "source": [
    "train_dataset = MRIDataset(\n",
    "    data_path,\n",
    "    labels_path,\n",
    "    split='train',\n",
    "    transform=transforms,\n",
    "    max_slices=20\n",
    ")\n",
    "\n",
    "val_dataset = MRIDataset(\n",
    "    data_path,\n",
    "    labels_path,\n",
    "    split='val',\n",
    "    transform=transforms,\n",
    "    max_slices=20\n",
    ")\n",
    "\n",
    "test_dataset = MRIDataset(\n",
    "    data_path,\n",
    "    labels_path,\n",
    "    split='test',\n",
    "    transform=transforms,\n",
    "    max_slices=20\n",
    ")\n",
    "\n",
    "train_dl = DataLoader(train_dataset, batch_size=16, shuffle=True)\n",
    "val_dl = DataLoader(val_dataset, batch_size=16)\n",
    "test_dl = DataLoader(test_dataset, batch_size=16)"
   ]
  },
  {
   "cell_type": "code",
   "execution_count": 7,
   "metadata": {},
   "outputs": [],
   "source": [
    "ssl._create_default_https_context = ssl._create_stdlib_context\n",
    "model_1 = VisionTransformerSPT_LSA().to(device=device)"
   ]
  },
  {
   "cell_type": "code",
   "execution_count": 8,
   "metadata": {},
   "outputs": [],
   "source": [
    "ssl._create_default_https_context = ssl._create_stdlib_context\n",
    "model_2 = VisionTransformerForTokens().to(device=device)"
   ]
  },
  {
   "cell_type": "code",
   "execution_count": 9,
   "metadata": {},
   "outputs": [
    {
     "data": {
      "text/plain": [
       "'VisionTransformerSPT_LSA'"
      ]
     },
     "execution_count": 9,
     "metadata": {},
     "output_type": "execute_result"
    }
   ],
   "source": [
    "model_name = model_1.__class__.__name__\n",
    "model_name"
   ]
  },
  {
   "cell_type": "code",
   "execution_count": 10,
   "metadata": {},
   "outputs": [
    {
     "name": "stdout",
     "output_type": "stream",
     "text": [
      "Class Weights: tensor(4.0051)\n"
     ]
    }
   ],
   "source": [
    "def compute_class_weights_from_csv(csv_file_path):\n",
    "    # Read the CSV file\n",
    "    df = pd.read_csv(csv_file_path)\n",
    "\n",
    "    labels = df['prediction'].values\n",
    "\n",
    "    # Convert labels to integers if they are not already\n",
    "    labels = labels.astype(int)\n",
    "\n",
    "    # Compute class weights\n",
    "    unique_labels = np.unique(labels)\n",
    "    class_weights = compute_class_weight(\n",
    "        class_weight='balanced', classes=unique_labels, y=labels)\n",
    "\n",
    "    # Convert to torch tensor\n",
    "    return torch.tensor(class_weights, dtype=torch.float)\n",
    "\n",
    "\n",
    "# Path to your CSV file\n",
    "class_weights = compute_class_weights_from_csv(labels_path)\n",
    "\n",
    "# For binary classification, use the appropriate class weight\n",
    "# Assuming binary classification with class labels 0 and 1\n",
    "class_weights = class_weights[1]  # Adjust if necessary\n",
    "print(\"Class Weights:\", class_weights)"
   ]
  },
  {
   "cell_type": "code",
   "execution_count": 11,
   "metadata": {},
   "outputs": [],
   "source": [
    "criterion = nn.BCEWithLogitsLoss(pos_weight=class_weights)\n",
    "optimizer = optim.AdamW(\n",
    "    list(model_1.parameters()) + list(model_2.parameters()), \n",
    "    lr=3e-4, weight_decay=0.01)"
   ]
  },
  {
   "cell_type": "code",
   "execution_count": 12,
   "metadata": {},
   "outputs": [],
   "source": [
    "# # Dice Loss definition\n",
    "# class DiceLoss(nn.Module):\n",
    "#     def __init__(self, smooth=1e-6):\n",
    "#         super(DiceLoss, self).__init__()\n",
    "#         self.smooth = smooth\n",
    "\n",
    "#     def forward(self, inputs, targets):\n",
    "#         inputs = torch.sigmoid(inputs)  # Apply sigmoid to ensure inputs are in range [0, 1]\n",
    "#         inputs = inputs.view(-1)\n",
    "#         targets = targets.view(-1)\n",
    "        \n",
    "#         intersection = (inputs * targets).sum()\n",
    "#         dice = (2. * intersection + self.smooth) / (inputs.sum() + targets.sum() + self.smooth)\n",
    "        \n",
    "#         return 1 - dice\n",
    "\n",
    "# # Combined Dice + Weighted BCE Loss\n",
    "# class CombinedLoss(nn.Module):\n",
    "#     def __init__(self, class_weights=None, bce_weight=0.5, dice_weight=0.5, smooth=1e-6):\n",
    "#         super(CombinedLoss, self).__init__()\n",
    "#         self.bce_loss = nn.BCEWithLogitsLoss(pos_weight=class_weights)  # Weighted BCE\n",
    "#         self.dice_loss = DiceLoss(smooth=smooth)                 # Dice Loss\n",
    "#         self.bce_weight = bce_weight\n",
    "#         self.dice_weight = dice_weight\n",
    "\n",
    "#     def forward(self, inputs, targets):\n",
    "#         bce = self.bce_loss(inputs, targets)\n",
    "#         dice = self.dice_loss(inputs, targets)\n",
    "        \n",
    "#         # Weighted combination of both losses\n",
    "#         loss = self.bce_weight * bce + self.dice_weight * dice\n",
    "#         return loss"
   ]
  },
  {
   "cell_type": "code",
   "execution_count": 13,
   "metadata": {},
   "outputs": [],
   "source": [
    "\n",
    "os.environ['PYTORCH_CUDA_ALLOC_CONF'] = 'expandable_segments:True'\n",
    "\n"
   ]
  },
  {
   "cell_type": "code",
   "execution_count": null,
   "metadata": {},
   "outputs": [],
   "source": [
    "trainer = Trainer_ViT_smalldata(\n",
    "    model_1=model_1,\n",
    "    model_2=model_2,\n",
    "    criterion=criterion,\n",
    "    optimizer=optimizer,\n",
    "    train_dl=train_dl,\n",
    "    val_dl=val_dl,\n",
    "    train_dataset=train_dataset,\n",
    "    val_dataset=val_dataset,\n",
    "    device=device,\n",
    "    num_epochs=80,\n",
    "    patience=20,\n",
    "    threshold=0.5,\n",
    "    save_path=f\"saved_models/{model_name}.pth\"\n",
    ")\n",
    "\n",
    "# Start training\n",
    "trainer.train()"
   ]
  },
  {
   "cell_type": "code",
   "execution_count": 15,
   "metadata": {},
   "outputs": [
    {
     "name": "stderr",
     "output_type": "stream",
     "text": [
      "/tmp/ipykernel_12494/2237316140.py:1: FutureWarning: You are using `torch.load` with `weights_only=False` (the current default value), which uses the default pickle module implicitly. It is possible to construct malicious pickle data which will execute arbitrary code during unpickling (See https://github.com/pytorch/pytorch/blob/main/SECURITY.md#untrusted-models for more details). In a future release, the default value for `weights_only` will be flipped to `True`. This limits the functions that could be executed during unpickling. Arbitrary objects will no longer be allowed to be loaded via this mode unless they are explicitly allowlisted by the user via `torch.serialization.add_safe_globals`. We recommend you start setting `weights_only=True` for any use case where you don't have full control of the loaded file. Please open an issue on GitHub for any issues related to this experimental feature.\n",
      "  model_1.load_state_dict(torch.load(f\"saved_models/{model_1.__class__.__name__}_best.pth\"))\n",
      "/tmp/ipykernel_12494/2237316140.py:2: FutureWarning: You are using `torch.load` with `weights_only=False` (the current default value), which uses the default pickle module implicitly. It is possible to construct malicious pickle data which will execute arbitrary code during unpickling (See https://github.com/pytorch/pytorch/blob/main/SECURITY.md#untrusted-models for more details). In a future release, the default value for `weights_only` will be flipped to `True`. This limits the functions that could be executed during unpickling. Arbitrary objects will no longer be allowed to be loaded via this mode unless they are explicitly allowlisted by the user via `torch.serialization.add_safe_globals`. We recommend you start setting `weights_only=True` for any use case where you don't have full control of the loaded file. Please open an issue on GitHub for any issues related to this experimental feature.\n",
      "  model_2.load_state_dict(torch.load(f\"saved_models/{model_2.__class__.__name__}_best.pth\"))\n"
     ]
    },
    {
     "data": {
      "text/plain": [
       "<All keys matched successfully>"
      ]
     },
     "execution_count": 15,
     "metadata": {},
     "output_type": "execute_result"
    }
   ],
   "source": [
    "model_1.load_state_dict(torch.load(f\"saved_models/{model_1.__class__.__name__}_best.pth\"))\n",
    "model_2.load_state_dict(torch.load(f\"saved_models/{model_2.__class__.__name__}_best.pth\"))"
   ]
  },
  {
   "cell_type": "code",
   "execution_count": 16,
   "metadata": {},
   "outputs": [
    {
     "name": "stdout",
     "output_type": "stream",
     "text": [
      "Test Loss: 36.1266, Test Accuracy: 0.8754\n",
      "Precision: 0.0000, Recall: 0.0000, AUC: 0.5000, Avg Metric: 0.1667\n",
      "Confusion Matrix:\n",
      "[[548   0]\n",
      " [ 78   0]]\n"
     ]
    }
   ],
   "source": [
    "tester = Tester_ViT_smalldata(\n",
    "    model_1 = model_1,\n",
    "    model_2 = model_2,\n",
    "    criterion=criterion,\n",
    "    test_dl=test_dl,\n",
    "    test_dataset=test_dataset,\n",
    "    device=device,\n",
    "    threshold=0.5\n",
    ")\n",
    "\n",
    "tester.test()"
   ]
  },
  {
   "cell_type": "code",
   "execution_count": 17,
   "metadata": {},
   "outputs": [],
   "source": [
    "torch.cuda.empty_cache()"
   ]
  }
 ],
 "metadata": {
  "kernelspec": {
   "display_name": "Python 3",
   "language": "python",
   "name": "python3"
  },
  "language_info": {
   "codemirror_mode": {
    "name": "ipython",
    "version": 3
   },
   "file_extension": ".py",
   "mimetype": "text/x-python",
   "name": "python",
   "nbconvert_exporter": "python",
   "pygments_lexer": "ipython3",
   "version": "3.10.12"
  }
 },
 "nbformat": 4,
 "nbformat_minor": 2
}
