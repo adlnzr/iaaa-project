{
 "cells": [
  {
   "cell_type": "code",
   "metadata": {
    "id": "KtOi2DDWNfcs",
    "ExecuteTime": {
     "end_time": "2024-08-04T11:14:33.421991Z",
     "start_time": "2024-08-04T11:14:33.408680Z"
    }
   },
   "source": [
    "import os\n",
    "import random\n",
    "\n",
    "import pandas as pd\n",
    "import numpy as np\n",
    "import matplotlib.pyplot as plt\n",
    "\n",
    "from sklearn.model_selection import train_test_split\n",
    "\n",
    "import torch\n",
    "import torch.nn as nn\n",
    "import torch.nn.functional as F\n",
    "import torch.optim as optim\n",
    "\n",
    "from torchvision import datasets, transforms\n",
    "from torchvision.transforms import ToTensor\n",
    "from torch.utils.data import DataLoader, Dataset\n",
    "\n",
    "import pydicom\n",
    "from tqdm import tqdm"
   ],
   "outputs": [],
   "execution_count": 42
  },
  {
   "cell_type": "code",
   "metadata": {
    "ExecuteTime": {
     "end_time": "2024-08-04T11:14:33.647137Z",
     "start_time": "2024-08-04T11:14:33.632615Z"
    }
   },
   "source": [
    "from config import Device\n",
    "\n",
    "device = Device.device\n",
    "print(device)"
   ],
   "outputs": [
    {
     "name": "stdout",
     "output_type": "stream",
     "text": [
      "cuda\n"
     ]
    }
   ],
   "execution_count": 43
  },
  {
   "cell_type": "code",
   "metadata": {
    "ExecuteTime": {
     "end_time": "2024-08-04T11:14:34.070114Z",
     "start_time": "2024-08-04T11:14:34.057812Z"
    }
   },
   "source": [
    "def find_device():\n",
    "    if torch.cuda.is_available():\n",
    "        return 'cuda'\n",
    "    elif torch.backends.mps.is_available():\n",
    "        return \"mps\"\n",
    "    else:\n",
    "        return \"cpu\"\n",
    "    \n",
    "device = torch.device(find_device())\n",
    "device"
   ],
   "outputs": [
    {
     "data": {
      "text/plain": [
       "device(type='cuda')"
      ]
     },
     "execution_count": 44,
     "metadata": {},
     "output_type": "execute_result"
    }
   ],
   "execution_count": 44
  },
  {
   "cell_type": "code",
   "metadata": {
    "colab": {
     "base_uri": "https://localhost:8080/"
    },
    "id": "pCS6fLRhOz9c",
    "outputId": "f47a4922-73e9-4f70-c62e-d469bde59bcf",
    "ExecuteTime": {
     "end_time": "2024-08-04T11:14:34.538455Z",
     "start_time": "2024-08-04T11:14:34.522322Z"
    }
   },
   "source": [
    "# reading a DICOM file\n",
    "# !pip install pydicom"
   ],
   "outputs": [],
   "execution_count": 45
  },
  {
   "cell_type": "code",
   "metadata": {
    "id": "SPkiMhpLNfXX",
    "ExecuteTime": {
     "end_time": "2024-08-04T11:14:34.964005Z",
     "start_time": "2024-08-04T11:14:34.947874Z"
    }
   },
   "source": [
    "# download the original raw data\n",
    "#!pip install gdown\n",
    "\n",
    "#!gdown --id 1Z67yKzNNqaXfa0UglcodL5Q3L0pMN-dt"
   ],
   "outputs": [],
   "execution_count": 46
  },
  {
   "cell_type": "code",
   "metadata": {
    "colab": {
     "base_uri": "https://localhost:8080/"
    },
    "id": "96aoJMGzO0gJ",
    "outputId": "3ff287b1-cf4d-479d-d6d7-2043e33fdc3e",
    "ExecuteTime": {
     "end_time": "2024-08-04T11:14:35.557588Z",
     "start_time": "2024-08-04T11:14:35.533593Z"
    }
   },
   "source": [
    "!ls"
   ],
   "outputs": [
    {
     "name": "stderr",
     "output_type": "stream",
     "text": [
      "'ls' is not recognized as an internal or external command,\n",
      "operable program or batch file.\n"
     ]
    }
   ],
   "execution_count": 47
  },
  {
   "cell_type": "code",
   "metadata": {
    "ExecuteTime": {
     "end_time": "2024-08-04T11:14:35.879391Z",
     "start_time": "2024-08-04T11:14:35.862340Z"
    }
   },
   "source": [
    "#!unzip iaaa-mri-train.zip"
   ],
   "outputs": [],
   "execution_count": 48
  },
  {
   "cell_type": "code",
   "metadata": {
    "ExecuteTime": {
     "end_time": "2024-08-04T11:14:37.289806Z",
     "start_time": "2024-08-04T11:14:37.270845Z"
    }
   },
   "source": [
    "!pwd"
   ],
   "outputs": [
    {
     "name": "stderr",
     "output_type": "stream",
     "text": [
      "'pwd' is not recognized as an internal or external command,\n",
      "operable program or batch file.\n"
     ]
    }
   ],
   "execution_count": 49
  },
  {
   "cell_type": "code",
   "metadata": {
    "colab": {
     "base_uri": "https://localhost:8080/"
    },
    "id": "tatE89XsQHd1",
    "outputId": "a4b7bf62-c127-478e-8fa9-22eca015550f",
    "ExecuteTime": {
     "end_time": "2024-08-04T11:14:37.406222Z",
     "start_time": "2024-08-04T11:14:37.326332Z"
    }
   },
   "source": [
    "# checkout number of folders and files (shell commands)\n",
    "\n",
    "!echo \"Number of files:\"\n",
    "!find /Users/anazarnia/data_science/iaaa/data -type f | wc -l\n",
    "\n",
    "!echo \"Number of directories:\"\n",
    "!find /Users/anazarnia/data_science/iaaa/data -type d | wc -l"
   ],
   "outputs": [
    {
     "name": "stdout",
     "output_type": "stream",
     "text": [
      "\"Number of files:\"\n"
     ]
    },
    {
     "name": "stderr",
     "output_type": "stream",
     "text": [
      "'wc' is not recognized as an internal or external command,\n",
      "operable program or batch file.\n"
     ]
    },
    {
     "name": "stdout",
     "output_type": "stream",
     "text": [
      "\"Number of directories:\"\n"
     ]
    },
    {
     "name": "stderr",
     "output_type": "stream",
     "text": [
      "'wc' is not recognized as an internal or external command,\n",
      "operable program or batch file.\n"
     ]
    }
   ],
   "execution_count": 50
  },
  {
   "cell_type": "code",
   "metadata": {
    "id": "xrOTLpEAO0Y0",
    "ExecuteTime": {
     "end_time": "2024-08-04T11:14:37.415122Z",
     "start_time": "2024-08-04T11:14:37.406222Z"
    }
   },
   "source": [
    "# train.csv\n",
    "\n",
    "df = pd.read_csv(\"train.csv\")"
   ],
   "outputs": [],
   "execution_count": 51
  },
  {
   "cell_type": "code",
   "metadata": {
    "colab": {
     "base_uri": "https://localhost:8080/"
    },
    "id": "Sd_wINOaO0Vm",
    "outputId": "54bfc4c8-b9c9-435c-b1ae-9a7bd9ef087c",
    "ExecuteTime": {
     "end_time": "2024-08-04T11:14:38.020480Z",
     "start_time": "2024-08-04T11:14:38.001968Z"
    }
   },
   "source": [
    "print(len(df))\n",
    "print(df.head(5))"
   ],
   "outputs": [
    {
     "name": "stdout",
     "output_type": "stream",
     "text": [
      "3132\n",
      "                                   SeriesInstanceUID  prediction\n",
      "0  1.3.46.670589.11.10042.5.0.6048.20240307143704...           0\n",
      "1  1.3.46.670589.11.10042.5.0.6048.20240307143746...           0\n",
      "2  1.3.46.670589.11.10042.5.0.6048.20240307143846...           0\n",
      "3  1.3.46.670589.11.10042.5.0.4776.20240217030800...           0\n",
      "4  1.3.46.670589.11.10042.5.0.4776.20240217030846...           0\n"
     ]
    }
   ],
   "execution_count": 52
  },
  {
   "cell_type": "code",
   "metadata": {
    "colab": {
     "base_uri": "https://localhost:8080/",
     "height": 237
    },
    "id": "C8PmviZFPyq8",
    "outputId": "c52bef8d-d696-432a-eab1-d3fc3b354882",
    "ExecuteTime": {
     "end_time": "2024-08-04T11:14:38.350731Z",
     "start_time": "2024-08-04T11:14:38.221818Z"
    }
   },
   "source": [
    "# dataframe analytic\n",
    "\n",
    "from matplotlib import pyplot as plt\n",
    "\n",
    "plt.figure(figsize=(4,2))\n",
    "df['prediction'].plot(kind='hist', bins=10, title='prediction')\n",
    "plt.gca().spines[['top', 'right',]].set_visible(False)"
   ],
   "outputs": [
    {
     "data": {
      "text/plain": [
       "<Figure size 400x200 with 1 Axes>"
      ],
      "image/png": "[encoded data removed]"
     },
     "metadata": {},
     "output_type": "display_data"
    }
   ],
   "execution_count": 53
  },
  {
   "cell_type": "code",
   "metadata": {
    "colab": {
     "base_uri": "https://localhost:8080/"
    },
    "id": "IkOPgjq2RLmJ",
    "outputId": "fbe49e92-776e-4ef4-dc38-9733342a88fe",
    "ExecuteTime": {
     "end_time": "2024-08-04T11:14:38.383347Z",
     "start_time": "2024-08-04T11:14:38.350731Z"
    }
   },
   "source": [
    "dicom_file = pydicom.dcmread('C:\\\\Users\\\\asus\\\\Desktop\\\\iaaa-mri-train\\\\data\\\\1.3.46.670589.11.10042.5.0.920.2023123109160568667\\\\1.3.46.670589.11.10042.5.0.920.2023123109165048675.dcm')\n",
    "\n",
    "print(dicom_file)   # DICOM metadata"
   ],
   "outputs": [
    {
     "name": "stdout",
     "output_type": "stream",
     "text": [
      "Dataset.file_meta -------------------------------\n",
      "(0002, 0000) File Meta Information Group Length  UL: 212\n",
      "(0002, 0001) File Meta Information Version       OB: b'\\x00\\x01'\n",
      "(0002, 0002) Media Storage SOP Class UID         UI: MR Image Storage\n",
      "(0002, 0003) Media Storage SOP Instance UID      UI: 1.2.826.0.1.3680043.8.498.10118984576011047191449425386920282692\n",
      "(0002, 0010) Transfer Syntax UID                 UI: RLE Lossless\n",
      "(0002, 0012) Implementation Class UID            UI: 1.3.6.1.4.1.30071.8\n",
      "(0002, 0013) Implementation Version Name         SH: 'fo-dicom 5.1.1'\n",
      "(0002, 0016) Source Application Entity Title     AE: 'ACHIVA'\n",
      "-------------------------------------------------\n",
      "(0008, 0005) Specific Character Set              CS: 'ISO_IR 100'\n",
      "(0008, 0008) Image Type                          CS: ['ORIGINAL', 'PRIMARY', 'M_SE', 'M', 'SE']\n",
      "(0008, 0012) Instance Creation Date              DA: '20231231'\n",
      "(0008, 0013) Instance Creation Time              TM: '120553'\n",
      "(0008, 0014) Instance Creator UID                UI: 1.3.46.670589.11.10042.5\n",
      "(0008, 0016) SOP Class UID                       UI: MR Image Storage\n",
      "(0008, 0018) SOP Instance UID                    UI: 1.2.826.0.1.3680043.8.498.10118984576011047191449425386920282692\n",
      "(0008, 0020) Study Date                          DA: '20231231'\n",
      "(0008, 0021) Series Date                         DA: '20231231'\n",
      "(0008, 0022) Acquisition Date                    DA: '20231231'\n",
      "(0008, 0023) Content Date                        DA: '20231231'\n",
      "(0008, 0030) Study Time                          TM: '091216'\n",
      "(0008, 0031) Series Time                         TM: '091605.67000'\n",
      "(0008, 0032) Acquisition Time                    TM: '091605.67'\n",
      "(0008, 0033) Content Time                        TM: '091605.67'\n",
      "(0008, 0050) Accession Number                    SH: '1815305762'\n",
      "(0008, 0060) Modality                            CS: 'MR'\n",
      "(0008, 0070) Manufacturer                        LO: 'Philips Medical Systems'\n",
      "(0008, 0080) Institution Name                    LO: 'Sepahan Medical Imaging Center'\n",
      "(0008, 0090) Referring Physician's Name          PN: 'anonymous'\n",
      "(0008, 0100) Code Value                          SH: ''\n",
      "(0008, 0102) Coding Scheme Designator            SH: 'DCM'\n",
      "(0008, 0104) Code Meaning                        LO: ''\n",
      "(0008, 1010) Station Name                        SH: 'PHILIPS-A9DD1E7'\n",
      "(0008, 1030) Study Description                   LO: 'MRI_Labeling_normal_abnormal_SPI_p5'\n",
      "(0008, 103e) Series Description                  LO: 'T2W_TSE'\n",
      "(0008, 1040) Institutional Department Name       LO: 'MRI'\n",
      "(0008, 1070) Operators' Name                     PN: 'anonymous'\n",
      "(0008, 1080) Admitting Diagnoses Description     LO: ''\n",
      "(0008, 1090) Manufacturer's Model Name           LO: 'Achieva'\n",
      "(0008, 1111)  Referenced Performed Procedure Step Sequence  1 item(s) ---- \n",
      "   (0008, 0012) Instance Creation Date              DA: '20231231'\n",
      "   (0008, 0013) Instance Creation Time              TM: '120553'\n",
      "   (0008, 0014) Instance Creator UID                UI: 1.3.46.670589.11.10042.5\n",
      "   (0008, 1150) Referenced SOP Class UID            UI: Modality Performed Procedure Step SOP Class\n",
      "   (0008, 1155) Referenced SOP Instance UID         UI: 1.3.46.670589.11.10042.5.0.6040.2023123109121350159\n",
      "   (0020, 0013) Instance Number                     IS: '0'\n",
      "   (2005, 0014) Private Creator                     LO: 'Philips MR Imaging DD 005'\n",
      "   (2005, 1406) [Unknown]                           SS: 0\n",
      "   ---------\n",
      "(0008, 1140)  Referenced Image Sequence  3 item(s) ---- \n",
      "   (0008, 1150) Referenced SOP Class UID            UI: MR Image Storage\n",
      "   (0008, 1155) Referenced SOP Instance UID         UI: 1.3.46.670589.11.10042.5.0.920.2023123109141565647\n",
      "   ---------\n",
      "   (0008, 1150) Referenced SOP Class UID            UI: MR Image Storage\n",
      "   (0008, 1155) Referenced SOP Instance UID         UI: 1.3.46.670589.11.10042.5.0.920.2023123109141556644\n",
      "   ---------\n",
      "   (0008, 1150) Referenced SOP Class UID            UI: MR Image Storage\n",
      "   (0008, 1155) Referenced SOP Instance UID         UI: 1.3.46.670589.11.10042.5.0.920.2023123109141559645\n",
      "   ---------\n",
      "(0010, 0010) Patient's Name                      PN: 'MRI_Labeling_normal_abnormal_SPI_p5-zare-3'\n",
      "(0010, 0020) Patient ID                          LO: '467937'\n",
      "(0010, 0030) Patient's Birth Date                DA: '19570101'\n",
      "(0010, 0040) Patient's Sex                       CS: 'F'\n",
      "(0010, 1000) Other Patient IDs                   LO: ''\n",
      "(0010, 1030) Patient's Weight                    DS: '55.0'\n",
      "(0010, 21c0) Pregnancy Status                    US: 4\n",
      "(0012, 0064)  De-identification Method Code Sequence  1 item(s) ---- \n",
      "   (0008, 0100) Code Value                          SH: '4'\n",
      "   (0008, 0102) Coding Scheme Designator            SH: 'XNAT'\n",
      "   (0008, 0103) Coding Scheme Version               SH: '1.0'\n",
      "   (0008, 0104) Code Meaning                        LO: 'XNAT DicomEdit 6 Script'\n",
      "   ---------\n",
      "(0018, 0015) Body Part Examined                  CS: 'CRANIAL VENOUS S'\n",
      "(0018, 0020) Scanning Sequence                   CS: 'SE'\n",
      "(0018, 0021) Sequence Variant                    CS: 'OSP'\n",
      "(0018, 0022) Scan Options                        CS: 'OTHER'\n",
      "(0018, 0023) MR Acquisition Type                 CS: '2D'\n",
      "(0018, 0024) Sequence Name                       SH: ''\n",
      "(0018, 0050) Slice Thickness                     DS: '6.7'\n",
      "(0018, 0080) Repetition Time                     DS: '3524.72485351562'\n",
      "(0018, 0081) Echo Time                           DS: '110.0'\n",
      "(0018, 0083) Number of Averages                  DS: '2.0'\n",
      "(0018, 0084) Imaging Frequency                   DS: '63.899319'\n",
      "(0018, 0085) Imaged Nucleus                      SH: '1H'\n",
      "(0018, 0086) Echo Number(s)                      IS: '1'\n",
      "(0018, 0087) Magnetic Field Strength             DS: '1.5'\n",
      "(0018, 0088) Spacing Between Slices              DS: '7.724'\n",
      "(0018, 0089) Number of Phase Encoding Steps      IS: '200'\n",
      "(0018, 0091) Echo Train Length                   IS: '23'\n",
      "(0018, 0093) Percent Sampling                    DS: '80.0480804443359'\n",
      "(0018, 0094) Percent Phase Field of View         DS: '77.6119422912597'\n",
      "(0018, 0095) Pixel Bandwidth                     DS: '245.0'\n",
      "(0018, 1000) Device Serial Number                LO: '10042'\n",
      "(0018, 1020) Software Versions                   LO: ['2.6.3', '2.6.3.7']\n",
      "(0018, 1030) Protocol Name                       LO: 'T2W_TSE SENSE'\n",
      "(0018, 1081) Low R-R Value                       IS: '0'\n",
      "(0018, 1082) High R-R Value                      IS: '0'\n",
      "(0018, 1083) Intervals Acquired                  IS: '0'\n",
      "(0018, 1084) Intervals Rejected                  IS: '0'\n",
      "(0018, 1088) Heart Rate                          IS: '0'\n",
      "(0018, 1100) Reconstruction Diameter             DS: '239.999994277954'\n",
      "(0018, 1250) Receive Coil Name                   SH: 'SENSE-Head-8'\n",
      "(0018, 1251) Transmit Coil Name                  SH: 'B'\n",
      "(0018, 1310) Acquisition Matrix                  US: [0, 268, 200, 0]\n",
      "(0018, 1312) In-plane Phase Encoding Direction   CS: 'ROW'\n",
      "(0018, 1314) Flip Angle                          DS: '90.0'\n",
      "(0018, 1316) SAR                                 DS: '2.70568919181823'\n",
      "(0018, 1318) dB/dt                               DS: '28.7787099891386'\n",
      "(0018, 5100) Patient Position                    CS: 'HFS'\n",
      "(0018, 9073) Acquisition Duration                FD: 35.247249603271484\n",
      "(0018, 9087) Diffusion b-value                   FD: 0.0\n",
      "(0018, 9089) Diffusion Gradient Orientation      FD: [0.0, 0.0, 0.0]\n",
      "(0020, 000d) Study Instance UID                  UI: 1.3.46.670589.11.10042.5.0.6040.2023123109121350158\n",
      "(0020, 000e) Series Instance UID                 UI: 1.3.46.670589.11.10042.5.0.920.2023123109160568667\n",
      "(0020, 0010) Study ID                            SH: '756897133'\n",
      "(0020, 0011) Series Number                       IS: '301'\n",
      "(0020, 0012) Acquisition Number                  IS: '3'\n",
      "(0020, 0013) Instance Number                     IS: '16'\n",
      "(0020, 0032) Image Position (Patient)            DS: [-124.59596278955, -103.57680194887, -47.487466074141]\n",
      "(0020, 0037) Image Orientation (Patient)         DS: [0.99848717451095, -0.0549729466438, 0.00116419035475, 0.05467385798692, 0.99485981464385, 0.08523327857255]\n",
      "(0020, 0052) Frame of Reference UID              UI: 1.3.46.670589.11.10042.5.0.4156.2023123109132220020\n",
      "(0020, 0100) Temporal Position Identifier        IS: '1'\n",
      "(0020, 0105) Number of Temporal Positions        IS: '1'\n",
      "(0020, 1040) Position Reference Indicator        LO: ''\n",
      "(0020, 1041) Slice Location                      DS: '0.0'\n",
      "(0028, 0002) Samples per Pixel                   US: 1\n",
      "(0028, 0004) Photometric Interpretation          CS: 'MONOCHROME2'\n",
      "(0028, 0008) Number of Frames                    IS: '1'\n",
      "(0028, 0010) Rows                                US: 288\n",
      "(0028, 0011) Columns                             US: 288\n",
      "(0028, 0030) Pixel Spacing                       DS: [0.83333331346511, 0.83333331346511]\n",
      "(0028, 0100) Bits Allocated                      US: 16\n",
      "(0028, 0101) Bits Stored                         US: 12\n",
      "(0028, 0102) High Bit                            US: 11\n",
      "(0028, 0103) Pixel Representation                US: 0\n",
      "(0028, 1050) Window Center                       DS: '332.09'\n",
      "(0028, 1051) Window Width                        DS: '577.29'\n",
      "(0028, 2110) Lossy Image Compression             CS: '00'\n",
      "(0032, 4000) Study Comments                      LT: Array of 23 elements\n",
      "(0040, 0006) Scheduled Performing Physician's Na PN: 'anonymous'\n",
      "(0040, 0241) Performed Station AE Title          AE: 'ACHIVA'\n",
      "(0040, 0244) Performed Procedure Step Start Date DA: '20231231'\n",
      "(0040, 0245) Performed Procedure Step Start Time TM: '091216'\n",
      "(0040, 0250) Performed Procedure Step End Date   DA: '20231231'\n",
      "(0040, 0251) Performed Procedure Step End Time   TM: '091216'\n",
      "(0040, 0253) Performed Procedure Step ID         SH: '756897133'\n",
      "(0040, 0254) Performed Procedure Step Descriptio LO: 'BRAIN'\n",
      "(0040, 0260)  Performed Protocol Code Sequence  1 item(s) ---- \n",
      "   (0008, 0100) Code Value                          SH: 'UNDEFINED'\n",
      "   (0008, 0102) Coding Scheme Designator            SH: 'UNDEFINED'\n",
      "   (0008, 0104) Code Meaning                        LO: 'UNDEFINED'\n",
      "   (0008, 010b) Context Group Extension Flag        CS: 'N'\n",
      "   ---------\n",
      "(0040, 0280) Comments on the Performed Procedure ST: 'BRAIN  F/66  1402/10/10'\n",
      "(0040, 0321)  Film Consumption Sequence  0 item(s) ---- \n",
      "(0040, 9096)  Real World Value Mapping Sequence  1 item(s) ---- \n",
      "   (0040, 9224) Real World Value Intercept          FD: 0.0\n",
      "   (0040, 9225) Real World Value Slope              FD: 3.221978\n",
      "   ---------\n",
      "(2001, 0010) Private Creator                     LO: 'Philips Imaging DD 001'\n",
      "(2001, 0090) Private Creator                     LO: 'Philips Imaging DD 129'\n",
      "(2001, 1001) [Chemical Shift]                    FL: 0.0\n",
      "(2001, 1002) [Chemical Shift Number MR]          IS: '0'\n",
      "(2001, 1003) [Diffusion B-Factor]                FL: 0.0\n",
      "(2001, 1006) [Image Enhanced]                    CS: 'N'\n",
      "(2001, 1007) [Image Type ED ES]                  CS: 'U'\n",
      "(2001, 1008) [Phase Number]                      IS: '1'\n",
      "(2001, 1009) [Unknown]                           FL: 0.0\n",
      "(2001, 100a) [Slice Number MR]                   IS: '1'\n",
      "(2001, 100b) [Slice Orientation]                 CS: 'TRANSVERSAL'\n",
      "(2001, 100c) [Unknown]                           CS: 'N'\n",
      "(2001, 100e) [Unknown]                           CS: 'N'\n",
      "(2001, 100f) [Unknown]                           SS: 0\n",
      "(2001, 1010) [Cardiac Sync]                      CS: 'NO'\n",
      "(2001, 1011) [Diffusion Echo Time]               FL: 0.0\n",
      "(2001, 1012) [Dynamic Series]                    CS: 'N'\n",
      "(2001, 1013) [EPI Factor]                        SL: 1\n",
      "(2001, 1014) [Number of Echoes]                  SL: 1\n",
      "(2001, 1015) [Number of Locations]               SS: 1\n",
      "(2001, 1016) [Number of PC Directions]           SS: 0\n",
      "(2001, 1017) [Number of Phases MR]               SL: 1\n",
      "(2001, 1018) [Number of Slices MR]               SL: 16\n",
      "(2001, 1019) [Partial Matrix Scanned]            CS: 'N'\n",
      "(2001, 101a) [PC Velocity]                       FL: [0.0, 0.0, 0.0]\n",
      "(2001, 101b) [Prepulse Delay]                    FL: 0.0\n",
      "(2001, 101c) [Prepulse Type]                     CS: 'NO'\n",
      "(2001, 101d) [Reconstruction Number MR]          IS: '1'\n",
      "(2001, 101f) [Respiration Sync]                  CS: 'NO'\n",
      "(2001, 1020) [Scanning Technique Description MR] LO: 'TSE'\n",
      "(2001, 1021) [SPIR]                              CS: 'N'\n",
      "(2001, 1022) [Water Fat Shift]                   FL: 0.886476457118988\n",
      "(2001, 1023) [Flip Angle Philips]                DS: '90.0'\n",
      "(2001, 1024) [Interactive]                       CS: 'N'\n",
      "(2001, 1025) [Echo Time Display MR]              SH: '110'\n",
      "(2001, 105f)  Private tag data  1 item(s) ---- \n",
      "   (2001, 0010) Private Creator                     LO: 'Philips Imaging DD 001'\n",
      "   (2001, 102d) [Number of Stack Slices]            SS: 16\n",
      "   (2001, 1032) [Stack Radial Angle]                FL: 0.0\n",
      "   (2001, 1033) [Stack Radial Axis]                 CS: 'AP'\n",
      "   (2001, 1035) [Stack Slice Number]                SS: 1\n",
      "   (2001, 1036) [Stack Type]                        CS: 'PARALLEL'\n",
      "   (2005, 0010) Private Creator                     LO: 'Philips MR Imaging DD 001'\n",
      "   (2005, 0013) Private Creator                     LO: 'Philips MR Imaging DD 004'\n",
      "   (2005, 0014) Private Creator                     LO: 'Philips MR Imaging DD 005'\n",
      "   (2005, 1071) [Unknown]                           FL: -0.33482301235198975\n",
      "   (2005, 1072) [Unknown]                           FL: -3.13419771194458\n",
      "   (2005, 1073) [Unknown]                           FL: 4.878448009490967\n",
      "   (2005, 1074) [Unknown]                           FL: 240.0\n",
      "   (2005, 1075) [Unknown]                           FL: 122.55713653564453\n",
      "   (2005, 1076) [Unknown]                           FL: 186.26866149902344\n",
      "   (2005, 1078) [Unknown]                           FL: 4.283334255218506\n",
      "   (2005, 1079) [Unknown]                           FL: 20.597957611083984\n",
      "   (2005, 107a) [Unknown]                           FL: 1.4448391199111938\n",
      "   (2005, 107b) [Unknown]                           CS: 'RL'\n",
      "   (2005, 107e) [Unknown]                           FL: 7.723809242248535\n",
      "   (2005, 1081) [Unknown]                           CS: 'FH'\n",
      "   (2005, 10a3) [Unknown]                           IS: '64'\n",
      "   (2005, 10a4) [Unknown]                           IS: '0'\n",
      "   (2005, 10a5) [Unknown]                           IS: '0'\n",
      "   (2005, 10a6) [Unknown]                           IS: '255'\n",
      "   (2005, 10a7) [Unknown]                           CS: 'DEFAULT'\n",
      "   (2005, 1390) [Unknown]                           CS: 'R_A'\n",
      "   (2005, 143c) [Unknown]                           FL: 1.6999999760721821e+38\n",
      "   (2005, 143d) [Unknown]                           FL: 1.6999999760721821e+38\n",
      "   (2005, 143e) [Unknown]                           FL: 1.6999999760721821e+38\n",
      "   ---------\n",
      "(2001, 1060) [Number of Stacks]                  SL: 1\n",
      "(2001, 1061) [Unknown]                           CS: 'N'\n",
      "(2001, 1062) [Unknown]                           CS: 'N'\n",
      "(2001, 1063) [Examination Source]                CS: 'ELSEWHERE'\n",
      "(2001, 107b) [Acquisition Number]                IS: '3'\n",
      "(2001, 1081) [Number of Dynamic Scans]           IS: '1'\n",
      "(2001, 1082) [Echo Train Length]                 IS: '23'\n",
      "(2001, 1083) [Imaging Frequency]                 DS: '63.899319'\n",
      "(2001, 1084) [Inversion Time]                    DS: '0.0'\n",
      "(2001, 1085) [Magnetic Field Strength]           DS: '1.5'\n",
      "(2001, 1086) [Unknown]                           IS: '0'\n",
      "(2001, 1087) [Imaged Nucleus]                    SH: '1H'\n",
      "(2001, 1088) [Number of Averages]                DS: '2.0'\n",
      "(2001, 1089) [Phase FOV Percent]                 DS: '0.0'\n",
      "(2001, 108a) [Sampling Percent]                  DS: '0.0'\n",
      "(2001, 108b) [Unknown]                           SH: 'B'\n",
      "(2001, 10c8) Private tag data                    LO: 'BRAIN SENS8 FF'\n",
      "(2001, 10f1) [Prospective Motion Correction]     FL: [0.0, 0.0, 0.0, 0.0, 0.0, 0.0]\n",
      "(2001, 9000)  Private tag data  1 item(s) ---- \n",
      "   (0008, 0005) Specific Character Set              CS: 'ISO_IR 100'\n",
      "   (0008, 0012) Instance Creation Date              DA: '20231231'\n",
      "   (0008, 0013) Instance Creation Time              TM: '120553'\n",
      "   (0008, 0014) Instance Creator UID                UI: 1.3.46.670589.11.10042.5\n",
      "   (0008, 0016) SOP Class UID                       UI: Grayscale Softcopy Presentation State Storage\n",
      "   (0008, 0018) SOP Instance UID                    UI: 1.3.46.670589.11.10042.5.0.6040.2023123109185432200\n",
      "   (0008, 1115)  Referenced Series Sequence  1 item(s) ---- \n",
      "      (0008, 1140)  Referenced Image Sequence  1 item(s) ---- \n",
      "         (0008, 1150) Referenced SOP Class UID            UI: MR Image Storage\n",
      "         (0008, 1155) Referenced SOP Instance UID         UI: 1.3.46.670589.11.10042.5.0.920.2023123109165048675\n",
      "         ---------\n",
      "      (0020, 000e) Series Instance UID                 UI: 1.3.46.670589.11.10042.5.0.920.2023123109160568667\n",
      "      ---------\n",
      "   (0018, 1622) Shutter Presentation Value          US: 0\n",
      "   (0020, 0013) Instance Number                     IS: '1'\n",
      "   (0028, 3110)  Softcopy VOI LUT Sequence  1 item(s) ---- \n",
      "      (0028, 1050) Window Center                       DS: '1070.0'\n",
      "      (0028, 1051) Window Width                        DS: '1860.0'\n",
      "      (2001, 0010) Private Creator                     LO: 'Philips Imaging DD 001'\n",
      "      (2001, 1053) [Window Invert]                     CS: 'N'\n",
      "      (2001, 1077) [GL TrafoType]                      CS: 'LINEARVOI'\n",
      "      ---------\n",
      "   (0070, 005a)  Displayed Area Selection Sequence  1 item(s) ---- \n",
      "      (0070, 0052) Displayed Area Top Left Hand Corner SL: [1, 1]\n",
      "      (0070, 0053) Displayed Area Bottom Right Hand Co SL: [288, 288]\n",
      "      (0070, 0100) Presentation Size Mode              CS: 'SCALE TO FIT'\n",
      "      (0070, 0102) Presentation Pixel Aspect Ratio     IS: [1, 1]\n",
      "      (2001, 0010) Private Creator                     LO: 'Philips Imaging DD 001'\n",
      "      (2001, 103f) [Interpolation Method]              CS: 'BI_CUBIC'\n",
      "      ---------\n",
      "   (0070, 0080) Content Label                       CS: 'AS LAST SEEN'\n",
      "   (0070, 0081) Content Description                 LO: ''\n",
      "   (0070, 0082) Presentation Creation Date          DA: '20231231'\n",
      "   (0070, 0083) Presentation Creation Time          TM: '091854'\n",
      "   (0070, 0084) Content Creator's Name              PN: 'anonymous'\n",
      "   (2001, 0010) Private Creator                     LO: 'Philips Imaging DD 001'\n",
      "   (2001, 0090) Private Creator                     LO: 'Philips Imaging DD 129'\n",
      "   (2001, 1026) [Presentation State Subtraction Act CS: 'N'\n",
      "   (2001, 1067) [Unknown]                           CS: ''\n",
      "   (2001, 1068)  Private tag data  1 item(s) ---- \n",
      "      (0028, 1052) Rescale Intercept                   DS: '0.0'\n",
      "      (0028, 1053) Rescale Slope                       DS: '3.221978'\n",
      "      (0028, 1054) Rescale Type                        LO: 'normalized'\n",
      "      (2001, 0010) Private Creator                     LO: 'Philips Imaging DD 001'\n",
      "      (2001, 1077) [GL TrafoType]                      CS: 'LINEARMODALITY'\n",
      "      ---------\n",
      "   (2001, 1077) [GL TrafoType]                      CS: 'L_PRESENTATION'\n",
      "   (2001, 109f) [Pixel Processing Kernel Size]      US: [0, 0]\n",
      "   (2001, 9000)  [Unknown]  0 item(s) ---- \n",
      "   (2005, 0012) Private Creator                     LO: 'Philips MR Imaging DD 003'\n",
      "   (2005, 0013) Private Creator                     LO: 'Philips MR Imaging DD 004'\n",
      "   (2005, 0014) Private Creator                     LO: 'Philips MR Imaging DD 005'\n",
      "   (2005, 1234) [Unknown]                           SL: 0\n",
      "   (2005, 1257) [Unknown]                           SS: 0\n",
      "   (2005, 1281) [Unknown]                           UI: ''\n",
      "   (2005, 1282) [Unknown]                           CS: ''\n",
      "   (2005, 1389)  [Unknown]  0 item(s) ---- \n",
      "   (2005, 1406) [Unknown]                           SS: 0\n",
      "   (2050, 0020) Presentation LUT Shape              CS: 'IDENTITY'\n",
      "   ---------\n",
      "(2005, 0010) Private Creator                     LO: 'Philips MR Imaging DD 001'\n",
      "(2005, 0011) Private Creator                     LO: 'Philips MR Imaging DD 002'\n",
      "(2005, 0012) Private Creator                     LO: 'Philips MR Imaging DD 003'\n",
      "(2005, 0013) Private Creator                     LO: 'Philips MR Imaging DD 004'\n",
      "(2005, 0014) Private Creator                     LO: 'Philips MR Imaging DD 005'\n",
      "(2005, 1000) [Unknown]                           FL: -0.33482301235198975\n",
      "(2005, 1001) [Unknown]                           FL: -3.13419771194458\n",
      "(2005, 1002) [Unknown]                           FL: 4.878448009490967\n",
      "(2005, 1004) [Unknown]                           CS: 'NONE'\n",
      "(2005, 1008) [Unknown]                           FL: 9.209619522094727\n",
      "(2005, 1009) [Unknown]                           FL: -37.11977005004883\n",
      "(2005, 100a) [Unknown]                           FL: 1.783358097076416\n",
      "(2005, 100b) [Unknown]                           FL: 110135.5390625\n",
      "(2005, 100c) [Unknown]                           FL: 0.2291511446237564\n",
      "(2005, 100d) [Unknown]                           FL: 0.0\n",
      "(2005, 100e) [Unknown]                           FL: 0.006433871109038591\n",
      "(2005, 100f) [Window Center]                     DS: '1070.0'\n",
      "(2005, 1010) [Window Width]                      DS: '1860.0'\n",
      "(2005, 1011) [Unknown]                           CS: 'M'\n",
      "(2005, 1012) [Unknown]                           CS: 'N'\n",
      "(2005, 1013) [Unknown]                           CS: 'NO'\n",
      "(2005, 1014) [Unknown]                           CS: 'N'\n",
      "(2005, 1015) [Unknown]                           CS: 'N'\n",
      "(2005, 1016) [Unknown]                           CS: 'N'\n",
      "(2005, 1017) [Unknown]                           CS: 'N'\n",
      "(2005, 1019) [Unknown]                           CS: 'N'\n",
      "(2005, 101a) [Unknown]                           SS: 0\n",
      "(2005, 101b) [Unknown]                           CS: 'N'\n",
      "(2005, 101c) [Unknown]                           CS: 'N'\n",
      "(2005, 101d) [Unknown]                           SS: 268\n",
      "(2005, 101e) [Unknown]                           SH: 'compose'\n",
      "(2005, 101f) [Unknown]                           SH: 'compose'\n",
      "(2005, 1020) [Number of Chemical Shift]          SL: 0\n",
      "(2005, 1021) [Unknown]                           SS: 1\n",
      "(2005, 1022) [Unknown]                           IS: '0'\n",
      "(2005, 1023) [Unknown]                           SS: 0\n",
      "(2005, 1025) [Unknown]                           SS: 0\n",
      "(2005, 1026) [Unknown]                           CS: 'Y'\n",
      "(2005, 1027) [Unknown]                           CS: 'MINIMUM'\n",
      "(2005, 1028) [Unknown]                           CS: 'N'\n",
      "(2005, 1029) [Unknown]                           CS: 'N'\n",
      "(2005, 102a) [Unknown]                           IS: '774090812'\n",
      "(2005, 102b) [Unknown]                           SS: 100\n",
      "(2005, 102c) [Unknown]                           CS: 'N'\n",
      "(2005, 102d) [Unknown]                           IS: '0'\n",
      "(2005, 102e) [Unknown]                           CS: 'N'\n",
      "(2005, 102f) [Unknown]                           CS: 'N'\n",
      "(2005, 1030) [Repetition Time]                   FL: 3524.724853515625\n",
      "(2005, 1031) [Unknown]                           CS: 'N'\n",
      "(2005, 1033) [Acquisition Duration]              FL: 35.247249603271484\n",
      "(2005, 1034) [Unknown]                           CS: 'Y'\n",
      "(2005, 1035) [Unknown]                           CS: 'PIXEL'\n",
      "(2005, 1036) [Unknown]                           CS: 'N'\n",
      "(2005, 1037) [Unknown]                           CS: 'N'\n",
      "(2005, 1038) [Unknown]                           CS: 'N'\n",
      "(2005, 1039) [Unknown]                           CS: 'N'\n",
      "(2005, 103b) [Unknown]                           CS: 'N'\n",
      "(2005, 103c) [Unknown]                           CS: 'N'\n",
      "(2005, 103d) [Unknown]                           SS: 102\n",
      "(2005, 103e) [Unknown]                           SL: Array of 102 elements\n",
      "(2005, 105f) [Unknown]                           CS: 'UNKNOWN'\n",
      "(2005, 1060) [Unknown]                           IS: '-1'\n",
      "(2005, 1061) [Unknown]                           CS: 'NO'\n",
      "(2005, 1063) [Unknown]                           SS: 0\n",
      "(2005, 106e) [Unknown]                           CS: 'SE'\n",
      "(2005, 106f) [Unknown]                           CS: 'MS'\n",
      "(2005, 1080)  [Unknown]  0 item(s) ---- \n",
      "(2005, 1083)  [Unknown]  0 item(s) ---- \n",
      "(2005, 1084)  [Unknown]  0 item(s) ---- \n",
      "(2005, 1085)  [Unknown]  0 item(s) ---- \n",
      "(2005, 1086) [Unknown]                           SS: 0\n",
      "(2005, 109e)  [Unknown]  0 item(s) ---- \n",
      "(2005, 10a0) [Unknown]                           FL: 0.0\n",
      "(2005, 10a1) [Syncra Scan Type]                  CS: 'SENSE'\n",
      "(2005, 10a2) [Unknown]                           CS: 'N'\n",
      "(2005, 10a8) [Unknown]                           DS: '0.0'\n",
      "(2005, 10a9) [Unknown]                           CS: 'NONE'\n",
      "(2005, 10b0) [Diffusion Direction RL]            FL: 0.0\n",
      "(2005, 10b1) [Diffusion Direction AP]            FL: 0.0\n",
      "(2005, 10b2) [Diffusion Direction FH]            FL: 0.0\n",
      "(2005, 10c0) [Unknown]                           CS: 'SE'\n",
      "(2005, 1199) [Unknown]                           UL: 0\n",
      "(2005, 1200) [Unknown]                           UL: 1\n",
      "(2005, 1201) [Unknown]                           UL: 0\n",
      "(2005, 1213) [Unknown]                           UL: 1\n",
      "(2005, 1245) [Unknown]                           SS: 2\n",
      "(2005, 1249) [Unknown]                           SS: 0\n",
      "(2005, 1251) [Unknown]                           SS: 0\n",
      "(2005, 1252) [Unknown]                           SS: 1\n",
      "(2005, 1253) [Unknown]                           SS: 1\n",
      "(2005, 1325) [Unknown]                           CS: 'N'\n",
      "(2005, 1326) [Unknown]                           FL: 0.0\n",
      "(2005, 1327) [Unknown]                           CS: 'REAL'\n",
      "(2005, 1328) [Unknown]                           CS: 'ORIGINAL'\n",
      "(2005, 1329) [Unknown]                           FL: 50.0\n",
      "(2005, 1330) [Unknown]                           CS: ['PLUS_A_PLUS_B', 'PLUS_A_PLUS_B', 'PLUS_A_PLUS_B', 'PLUS_A_PLUS_B']\n",
      "(2005, 1331) [Unknown]                           SS: 0\n",
      "(2005, 1333) [Unknown]                           FL: [0.0, 0.0, 0.0]\n",
      "(2005, 1334) [Unknown]                           CS: 'UNKNOWN'\n",
      "(2005, 1335) [Unknown]                           CS: 'UNKNOWN'\n",
      "(2005, 1336) [Unknown]                           FL: 0.0\n",
      "(2005, 1337) [Unknown]                           FL: 0.0\n",
      "(2005, 1338) [Unknown]                           FL: 0.0\n",
      "(2005, 1339) [Unknown]                           SS: [0, 0]\n",
      "(2005, 1340) [Unknown]                           CS: 'PRE_FT'\n",
      "(2005, 1341) [Unknown]                           CS: 'UNKNOWN'\n",
      "(2005, 1342) [Unknown]                           CS: 'FID'\n",
      "(2005, 1343) [Unknown]                           CS: 'Y'\n",
      "(2005, 1344) [Unknown]                           SS: Array of 40 elements\n",
      "(2005, 1345) [Unknown]                           CS: 'NO'\n",
      "(2005, 1346) [Unknown]                           CS: 'HERTZ'\n",
      "(2005, 1347) [Unknown]                           FL: 0.0\n",
      "(2005, 1348) [Unknown]                           CS: 'OFF'\n",
      "(2005, 1349) [Unknown]                           FL: 0.0\n",
      "(2005, 1350) [Unknown]                           FL: [0.0, 0.0]\n",
      "(2005, 1351) [Unknown]                           SS: 0\n",
      "(2005, 1352) [Unknown]                           SS: 0\n",
      "(2005, 1355) [Unknown]                           FL: Array of 30 elements\n",
      "(2005, 1356) [Unknown]                           CS: 'NO'\n",
      "(2005, 1357) [Unknown]                           SS: 0\n",
      "(2005, 1359) [Unknown]                           FL: 1.0\n",
      "(2005, 1360) [Unknown]                           FL: 0.0\n",
      "(2005, 1361) [Unknown]                           FL: [0.0, 0.0]\n",
      "(2005, 1362) [Unknown]                           FL: 0.0\n",
      "(2005, 1363) [Unknown]                           FL: 0.0\n",
      "(2005, 1364) [Unknown]                           CS: 'NO'\n",
      "(2005, 1370) [Unknown]                           SS: 0\n",
      "(2005, 1371)  [Unknown]  0 item(s) ---- \n",
      "(2005, 1381) [Unknown]                           IS: '3'\n",
      "(2005, 1382) [Unknown]                           UL: 1\n",
      "(2005, 1391) [Unknown]                           PN: 'anonymous'\n",
      "(2005, 1392) [Unknown]                           IS: '0'\n",
      "(2005, 1393) [Unknown]                           IS: '-1'\n",
      "(2005, 1396) [Unknown]                           CS: 'NO'\n",
      "(2005, 1397) [Unknown]                           LO: 'SNM3.T-A0193.Cranial venous system'\n",
      "(2005, 1398) [Unknown]                           CS: 'NO'\n",
      "(2005, 1399) [Unknown]                           CS: 'NO'\n",
      "(2005, 1400) [Unknown]                           CS: 'YES'\n",
      "(2005, 1401) [Unknown]                           UL: 1\n",
      "(2005, 1402)  Private tag data  1 item(s) ---- \n",
      "   (0008, 0100) Code Value                          SH: ''\n",
      "   (0008, 0102) Coding Scheme Designator            SH: ''\n",
      "   (0008, 0103) Coding Scheme Version               SH: ''\n",
      "   (0008, 0104) Code Meaning                        LO: ''\n",
      "   (0008, 010b) Context Group Extension Flag        CS: 'N'\n",
      "   (0008, 010d) Context Group Extension Creator UID UI: ''\n",
      "   ---------\n",
      "(2005, 1403) [Unknown]                           UL: 1\n",
      "(2005, 1406) [Unknown]                           SS: 0\n",
      "(2005, 1409) [Unknown]                           DS: '0.0'\n",
      "(2005, 140a) [Unknown]                           DS: '3.22197802197802'\n",
      "(2005, 140b) [Unknown]                           LO: 'normalized'\n",
      "(2005, 140e)  [Unknown]  0 item(s) ---- \n",
      "(2005, 140f)  Private tag data  1 item(s) ---- \n",
      "   (0008, 9007) Frame Type                          CS: ['', '', '', '']\n",
      "   (0008, 9123) Creator-Version UID                 UI: 1.3.46.670589.11\n",
      "   (0008, 9205) Pixel Presentation                  CS: 'MONOCHROME'\n",
      "   (0008, 9206) Volumetric Properties               CS: 'VOLUME'\n",
      "   (0008, 9207) Volume Based Calculation Technique  CS: 'NONE'\n",
      "   (0008, 9208) Complex Image Component             CS: 'REAL'\n",
      "   (0008, 9209) Acquisition Contrast                CS: 'T2'\n",
      "   (0018, 1041) Contrast/Bolus Volume               DS: '0.0'\n",
      "   (0018, 1049) Contrast/Bolus Ingredient Concentra DS: '0.0'\n",
      "   (0018, 9005) Pulse Sequence Name                 SH: 'TSE'\n",
      "   (0018, 9008) Echo Pulse Sequence                 CS: 'SPIN'\n",
      "   (0018, 9009) Inversion Recovery                  CS: 'NO'\n",
      "   (0018, 9011) Multiple Spin Echo                  CS: 'YES'\n",
      "   (0018, 9012) Multi-planar Excitation             CS: 'NO'\n",
      "   (0018, 9014) Phase Contrast                      CS: 'NO'\n",
      "   (0018, 9015) Time of Flight Contrast             CS: 'NO'\n",
      "   (0018, 9016) Spoiling                            CS: 'NONE'\n",
      "   (0018, 9017) Steady State Pulse Sequence         CS: 'NONE'\n",
      "   (0018, 9018) Echo Planar Pulse Sequence          CS: 'NO'\n",
      "   (0018, 9020) Magnetization Transfer              CS: 'NONE'\n",
      "   (0018, 9021) T2 Preparation                      CS: 'NO'\n",
      "   (0018, 9022) Blood Signal Nulling                CS: 'NO'\n",
      "   (0018, 9024) Saturation Recovery                 CS: 'NO'\n",
      "   (0018, 9025) Spectrally Selected Suppression     CS: 'NONE'\n",
      "   (0018, 9026) Spectrally Selected Excitation      CS: 'WATER'\n",
      "   (0018, 9027) Spatial Pre-saturation              CS: 'NONE'\n",
      "   (0018, 9028) Tagging                             CS: 'NONE'\n",
      "   (0018, 9029) Oversampling Phase                  CS: '2D'\n",
      "   (0018, 9032) Geometry of k-Space Traversal       CS: 'RECTILINEAR'\n",
      "   (0018, 9033) Segmented k-Space Traversal         CS: 'PARTIAL'\n",
      "   (0018, 9034) Rectilinear Phase Encode Reordering CS: 'UNKNOWN'\n",
      "   (0018, 9035) Tag Thickness                       FD: 0.0\n",
      "   (0018, 9036) Partial Fourier Direction           CS: 'FREQUENCY'\n",
      "   (0018, 9037) Cardiac Synchronization Technique   CS: 'NONE'\n",
      "   (0018, 9041) Receive Coil Manufacturer Name      LO: ''\n",
      "   (0018, 9043) Receive Coil Type                   CS: 'MULTICOIL'\n",
      "   (0018, 9044) Quadrature Receive Coil             CS: 'NO'\n",
      "   (0018, 9047) Multi-Coil Element Name             SH: 'SENSE'\n",
      "   (0018, 9048) Multi-Coil Element Used             CS: 'YES'\n",
      "   (0018, 9051) Transmit Coil Type                  CS: 'BODY'\n",
      "   (0018, 9053) Chemical Shift Reference            FD: 4.68\n",
      "   (0018, 9058) MR Acquisition Frequency Encoding S US: 268\n",
      "   (0018, 9059) De-coupling                         CS: 'NO'\n",
      "   (0018, 9064) k-space Filtering                   CS: 'RIESZ'\n",
      "   (0018, 9069) Parallel Reduction Factor In-plane  FD: 1.5\n",
      "   (0018, 9075) Diffusion Directionality            CS: 'NONE'\n",
      "   (0018, 9077) Parallel Acquisition                CS: 'YES'\n",
      "   (0018, 9078) Parallel Acquisition Technique      CS: 'SENSE'\n",
      "   (0018, 9079) Inversion Times                     FD: [0.0, 0.0]\n",
      "   (0018, 9080) Metabolite Map Description          ST: 'WATER'\n",
      "   (0018, 9081) Partial Fourier                     CS: 'NO'\n",
      "   (0018, 9090) Velocity Encoding Direction         FD: [0.0, 0.0, 0.0]\n",
      "   (0018, 9091) Velocity Encoding Minimum Value     FD: 0.0\n",
      "   (0018, 9093) Number of k-Space Trajectories      US: 9\n",
      "   (0018, 9101) Frequency Correction                CS: 'NO'\n",
      "   (0018, 9147) Diffusion Anisotropy Type           CS: ''\n",
      "   (0018, 9155) Parallel Reduction Factor out-of-pl FD: 1.0\n",
      "   (0018, 9168) Parallel Reduction Factor Second In FD: 1.0\n",
      "   (0018, 9170) Respiratory Motion Compensation Tec CS: 'NONE'\n",
      "   (0018, 9171) Respiratory Signal Source           CS: 'NONE'\n",
      "   (0018, 9172) Bulk Motion Compensation Technique  CS: 'NONE'\n",
      "   (0018, 9174) Applicable Safety Standard Agency   CS: 'IEC'\n",
      "   (0018, 9179) Specific Absorption Rate Definition CS: 'IEC_WHOLE_BODY'\n",
      "   (0018, 9180) Gradient Output Type                CS: 'DB_DT'\n",
      "   (0018, 9181) Specific Absorption Rate Value      FD: 2.7056891918182373\n",
      "   (0018, 9182) Gradient Output                     FD: 28.778709989138697\n",
      "   (0018, 9199) Water Referenced Phase Correction   CS: 'NO'\n",
      "   (0018, 9200) MR Spectroscopy Acquisition Type    CS: ''\n",
      "   (0018, 9231) MR Acquisition Phase Encoding Steps US: 200\n",
      "   (0018, 9232) MR Acquisition Phase Encoding Steps US: 1\n",
      "   (0018, 9240) RF Echo Train Length                US: 23\n",
      "   (0018, 9241) Gradient Echo Train Length          US: 0\n",
      "   (0020, 9072) Frame Laterality                    CS: 'U'\n",
      "   (0020, 9254) Respiratory Interval Time           FD: 0.0\n",
      "   (0020, 9255) Nominal Respiratory Trigger Delay T FD: 0.0\n",
      "   (0028, 3003) LUT Explanation                     LO: 'Philips Real World Value Mapping'\n",
      "   (0028, 9001) Data Point Rows                     UL: 1\n",
      "   (0028, 9002) Data Point Columns                  UL: 0\n",
      "   (0040, 9210) LUT Label                           SH: 'Philips'\n",
      "   ---------\n",
      "(2005, 1412) [Unknown]                           IS: '1'\n",
      "(2005, 1413) [Unknown]                           IS: '1'\n",
      "(2005, 1414) [Unknown]                           SL: 1\n",
      "(2005, 1415) [Unknown]                           SL: 1\n",
      "(2005, 1416) [Unknown]                           CS: 'MAN'\n",
      "(2005, 1418) [Unknown]                           CS: ['STATIC FIELD', 'RF', 'GRADIENT']\n",
      "(2005, 1419) [Unknown]                           CS: ['IEC_NORMAL', 'IEC_FIRST_LEVEL', 'IEC_NORMAL']\n",
      "(2005, 141b) [Unknown]                           IS: '0'\n",
      "(2005, 141c) [Unknown]                           IS: '0'\n",
      "(2005, 141d) [Unknown]                           IS: '0'\n",
      "(2005, 1426) [Unknown]                           CS: 'N'\n",
      "(2005, 1428) [Unknown]                           SL: 0\n",
      "(2005, 142a) [Unknown]                           CS: 'PARTIAL'\n",
      "(2005, 142b) [Unknown]                           CS: 'INITIAL'\n",
      "(2005, 142c) [Unknown]                           CS: 'INITIAL'\n",
      "(2005, 142d) [Unknown]                           CS: 'INITIAL'\n",
      "(2005, 1432) [Unknown]                           CS: 'N'\n",
      "(2005, 1435) [Unknown]                           CS: 'N'\n",
      "(2005, 143a) [Unknown]                           LT: Array of 26 elements\n",
      "(2005, 143b) [Unknown]                           CS: 'N'\n",
      "(2005, 143f) [Unknown]                           CS: 'N'\n",
      "(2005, 1440) [Unknown]                           FL: 0.0\n",
      "(2005, 1441) [Unknown]                           FL: 0.0\n",
      "(2005, 1442) [Unknown]                           FL: 0.0\n",
      "(2005, 1443) [Unknown]                           FL: 0.0\n",
      "(2005, 1444) [Unknown]                           IS: '0'\n",
      "(2005, 1445) [Unknown]                           CS: 'N'\n",
      "(2005, 1447) [Unknown]                           FL: 0.0\n",
      "(2005, 144a) [Unknown]                           FL: 0.0\n",
      "(2005, 144b) [Unknown]                           FL: 0.0\n",
      "(2005, 144c) [Unknown]                           FL: 0.0\n",
      "(2005, 144d) [Unknown]                           CS: 'N'\n",
      "(2005, 144e) [Unknown]                           CS: 'N'\n",
      "(2005, 144f) [Unknown]                           CS: 'NONE'\n",
      "(2005, 1450) [Unknown]                           SS: 0\n",
      "(2050, 0020) Presentation LUT Shape              CS: 'IDENTITY'\n",
      "(7fe0, 0010) Pixel Data                          OW: Array of 61464 elements\n"
     ]
    }
   ],
   "execution_count": 54
  },
  {
   "cell_type": "code",
   "metadata": {
    "colab": {
     "base_uri": "https://localhost:8080/"
    },
    "id": "_pROmXyFRLif",
    "outputId": "4f30849b-57d6-40d9-e06e-25fc67226ede",
    "ExecuteTime": {
     "end_time": "2024-08-04T11:14:38.708061Z",
     "start_time": "2024-08-04T11:14:38.687866Z"
    }
   },
   "source": [
    "dir(dicom_file)"
   ],
   "outputs": [
    {
     "data": {
      "text/plain": [
       "['AccessionNumber',\n",
       " 'AcquisitionDate',\n",
       " 'AcquisitionDuration',\n",
       " 'AcquisitionMatrix',\n",
       " 'AcquisitionNumber',\n",
       " 'AcquisitionTime',\n",
       " 'AdmittingDiagnosesDescription',\n",
       " 'BitsAllocated',\n",
       " 'BitsStored',\n",
       " 'BodyPartExamined',\n",
       " 'CodeMeaning',\n",
       " 'CodeValue',\n",
       " 'CodingSchemeDesignator',\n",
       " 'Columns',\n",
       " 'CommentsOnThePerformedProcedureStep',\n",
       " 'ContentDate',\n",
       " 'ContentTime',\n",
       " 'DeidentificationMethodCodeSequence',\n",
       " 'DeviceSerialNumber',\n",
       " 'DiffusionBValue',\n",
       " 'DiffusionGradientOrientation',\n",
       " 'EchoNumbers',\n",
       " 'EchoTime',\n",
       " 'EchoTrainLength',\n",
       " 'FilmConsumptionSequence',\n",
       " 'FlipAngle',\n",
       " 'FrameOfReferenceUID',\n",
       " 'HeartRate',\n",
       " 'HighBit',\n",
       " 'HighRRValue',\n",
       " 'ImageOrientationPatient',\n",
       " 'ImagePositionPatient',\n",
       " 'ImageType',\n",
       " 'ImagedNucleus',\n",
       " 'ImagingFrequency',\n",
       " 'InPlanePhaseEncodingDirection',\n",
       " 'InstanceCreationDate',\n",
       " 'InstanceCreationTime',\n",
       " 'InstanceCreatorUID',\n",
       " 'InstanceNumber',\n",
       " 'InstitutionName',\n",
       " 'InstitutionalDepartmentName',\n",
       " 'IntervalsAcquired',\n",
       " 'IntervalsRejected',\n",
       " 'LossyImageCompression',\n",
       " 'LowRRValue',\n",
       " 'MRAcquisitionType',\n",
       " 'MagneticFieldStrength',\n",
       " 'Manufacturer',\n",
       " 'ManufacturerModelName',\n",
       " 'Modality',\n",
       " 'NumberOfAverages',\n",
       " 'NumberOfFrames',\n",
       " 'NumberOfPhaseEncodingSteps',\n",
       " 'NumberOfTemporalPositions',\n",
       " 'OperatorsName',\n",
       " 'OtherPatientIDs',\n",
       " 'PatientBirthDate',\n",
       " 'PatientID',\n",
       " 'PatientName',\n",
       " 'PatientPosition',\n",
       " 'PatientSex',\n",
       " 'PatientWeight',\n",
       " 'PercentPhaseFieldOfView',\n",
       " 'PercentSampling',\n",
       " 'PerformedProcedureStepDescription',\n",
       " 'PerformedProcedureStepEndDate',\n",
       " 'PerformedProcedureStepEndTime',\n",
       " 'PerformedProcedureStepID',\n",
       " 'PerformedProcedureStepStartDate',\n",
       " 'PerformedProcedureStepStartTime',\n",
       " 'PerformedProtocolCodeSequence',\n",
       " 'PerformedStationAETitle',\n",
       " 'PhotometricInterpretation',\n",
       " 'PixelBandwidth',\n",
       " 'PixelData',\n",
       " 'PixelRepresentation',\n",
       " 'PixelSpacing',\n",
       " 'PositionReferenceIndicator',\n",
       " 'PregnancyStatus',\n",
       " 'PresentationLUTShape',\n",
       " 'ProtocolName',\n",
       " 'RealWorldValueMappingSequence',\n",
       " 'ReceiveCoilName',\n",
       " 'ReconstructionDiameter',\n",
       " 'ReferencedImageSequence',\n",
       " 'ReferencedPerformedProcedureStepSequence',\n",
       " 'ReferringPhysicianName',\n",
       " 'RepetitionTime',\n",
       " 'Rows',\n",
       " 'SAR',\n",
       " 'SOPClassUID',\n",
       " 'SOPInstanceUID',\n",
       " 'SamplesPerPixel',\n",
       " 'ScanOptions',\n",
       " 'ScanningSequence',\n",
       " 'ScheduledPerformingPhysicianName',\n",
       " 'SequenceName',\n",
       " 'SequenceVariant',\n",
       " 'SeriesDate',\n",
       " 'SeriesDescription',\n",
       " 'SeriesInstanceUID',\n",
       " 'SeriesNumber',\n",
       " 'SeriesTime',\n",
       " 'SliceLocation',\n",
       " 'SliceThickness',\n",
       " 'SoftwareVersions',\n",
       " 'SpacingBetweenSlices',\n",
       " 'SpecificCharacterSet',\n",
       " 'StationName',\n",
       " 'StudyComments',\n",
       " 'StudyDate',\n",
       " 'StudyDescription',\n",
       " 'StudyID',\n",
       " 'StudyInstanceUID',\n",
       " 'StudyTime',\n",
       " 'TemporalPositionIdentifier',\n",
       " 'TransmitCoilName',\n",
       " 'WindowCenter',\n",
       " 'WindowWidth',\n",
       " '__array__',\n",
       " '__class__',\n",
       " '__contains__',\n",
       " '__copy__',\n",
       " '__deepcopy__',\n",
       " '__delattr__',\n",
       " '__delitem__',\n",
       " '__dict__',\n",
       " '__dir__',\n",
       " '__doc__',\n",
       " '__enter__',\n",
       " '__eq__',\n",
       " '__exit__',\n",
       " '__format__',\n",
       " '__ge__',\n",
       " '__getattr__',\n",
       " '__getattribute__',\n",
       " '__getitem__',\n",
       " '__getstate__',\n",
       " '__gt__',\n",
       " '__hash__',\n",
       " '__init__',\n",
       " '__init_subclass__',\n",
       " '__iter__',\n",
       " '__le__',\n",
       " '__len__',\n",
       " '__lt__',\n",
       " '__module__',\n",
       " '__ne__',\n",
       " '__new__',\n",
       " '__reduce__',\n",
       " '__reduce_ex__',\n",
       " '__repr__',\n",
       " '__setattr__',\n",
       " '__setitem__',\n",
       " '__setstate__',\n",
       " '__sizeof__',\n",
       " '__str__',\n",
       " '__subclasshook__',\n",
       " '__weakref__',\n",
       " '_character_set',\n",
       " '_convert_pixel_data_using_handler',\n",
       " '_convert_pixel_data_without_handler',\n",
       " '_copy_implementation',\n",
       " '_dataset_slice',\n",
       " '_dict',\n",
       " '_do_pixel_data_conversion',\n",
       " '_parent_encoding',\n",
       " '_parent_seq',\n",
       " '_pixel_array',\n",
       " '_pixel_id',\n",
       " '_pretty_str',\n",
       " '_private_blocks',\n",
       " '_set_file_meta',\n",
       " '_slice_dataset',\n",
       " 'add',\n",
       " 'add_new',\n",
       " 'clear',\n",
       " 'compress',\n",
       " 'convert_pixel_data',\n",
       " 'copy',\n",
       " 'dBdt',\n",
       " 'data_element',\n",
       " 'decode',\n",
       " 'decompress',\n",
       " 'default_element_format',\n",
       " 'default_sequence_element_format',\n",
       " 'dir',\n",
       " 'elements',\n",
       " 'ensure_file_meta',\n",
       " 'file_meta',\n",
       " 'filename',\n",
       " 'fileobj_type',\n",
       " 'fix_meta_info',\n",
       " 'formatted_lines',\n",
       " 'from_json',\n",
       " 'get',\n",
       " 'get_item',\n",
       " 'get_private_item',\n",
       " 'group_dataset',\n",
       " 'indent_chars',\n",
       " 'is_decompressed',\n",
       " 'is_implicit_VR',\n",
       " 'is_little_endian',\n",
       " 'is_original_encoding',\n",
       " 'is_undefined_length_sequence_item',\n",
       " 'items',\n",
       " 'iterall',\n",
       " 'keys',\n",
       " 'overlay_array',\n",
       " 'parent',\n",
       " 'parent_seq',\n",
       " 'pixel_array',\n",
       " 'pop',\n",
       " 'popitem',\n",
       " 'preamble',\n",
       " 'private_block',\n",
       " 'private_creators',\n",
       " 'read_encoding',\n",
       " 'read_implicit_vr',\n",
       " 'read_little_endian',\n",
       " 'remove_private_tags',\n",
       " 'save_as',\n",
       " 'set_original_encoding',\n",
       " 'setdefault',\n",
       " 'timestamp',\n",
       " 'to_json',\n",
       " 'to_json_dict',\n",
       " 'top',\n",
       " 'trait_names',\n",
       " 'update',\n",
       " 'values',\n",
       " 'walk',\n",
       " 'waveform_array']"
      ]
     },
     "execution_count": 55,
     "metadata": {},
     "output_type": "execute_result"
    }
   ],
   "execution_count": 55
  },
  {
   "cell_type": "code",
   "metadata": {
    "colab": {
     "base_uri": "https://localhost:8080/"
    },
    "id": "Wu6n0cnORLfH",
    "outputId": "bb3e8324-eab4-4d51-abbe-68309e2e73a6",
    "ExecuteTime": {
     "end_time": "2024-08-04T11:14:40.065722Z",
     "start_time": "2024-08-04T11:14:40.057260Z"
    }
   },
   "source": [
    "# check the shape of the image\n",
    "dicom_file.pixel_array.shape"
   ],
   "outputs": [
    {
     "data": {
      "text/plain": [
       "(288, 288)"
      ]
     },
     "execution_count": 56,
     "metadata": {},
     "output_type": "execute_result"
    }
   ],
   "execution_count": 56
  },
  {
   "cell_type": "code",
   "metadata": {
    "colab": {
     "base_uri": "https://localhost:8080/",
     "height": 296
    },
    "id": "585WaHyrRLbw",
    "outputId": "35fc3d43-aa69-44e0-d368-b2f21ccd4a91",
    "ExecuteTime": {
     "end_time": "2024-08-04T11:14:40.273873Z",
     "start_time": "2024-08-04T11:14:40.202758Z"
    }
   },
   "source": [
    "# extacting and display the image data\n",
    "\n",
    "image_data = dicom_file.pixel_array\n",
    "\n",
    "plt.figure(figsize=(3,3))\n",
    "plt.imshow(image_data, cmap=plt.cm.gray)\n",
    "plt.show()"
   ],
   "outputs": [
    {
     "data": {
      "text/plain": [
       "<Figure size 300x300 with 1 Axes>"
      ],
      "image/png": "[encoded data removed]"
     },
     "metadata": {},
     "output_type": "display_data"
    }
   ],
   "execution_count": 57
  },
  {
   "cell_type": "code",
   "metadata": {
    "ExecuteTime": {
     "end_time": "2024-08-04T11:14:40.653180Z",
     "start_time": "2024-08-04T11:14:40.643842Z"
    }
   },
   "source": [
    "# transforms.ToTensor -> adds one dimension to the image\n",
    "print(image_data.shape)\n",
    "\n",
    "to_tensor = transforms.ToTensor()\n",
    "image_tensor = to_tensor(image_data)\n",
    "print(image_tensor.size())"
   ],
   "outputs": [
    {
     "name": "stdout",
     "output_type": "stream",
     "text": [
      "(288, 288)\n",
      "torch.Size([1, 288, 288])\n"
     ]
    }
   ],
   "execution_count": 58
  },
  {
   "cell_type": "code",
   "metadata": {
    "ExecuteTime": {
     "end_time": "2024-08-04T11:14:40.791892Z",
     "start_time": "2024-08-04T11:14:40.777760Z"
    }
   },
   "source": [
    "# patient_list = [d for d in os.listdir(data_path) if os.path.isdir(os.path.join(data_path, d))]\n",
    "\n",
    "# train_patients, test_patients = train_test_split(patient_list, test_size=0.2, shuffle=True, random_state=42)"
   ],
   "outputs": [],
   "execution_count": 59
  },
  {
   "cell_type": "code",
   "metadata": {
    "id": "Cq4is7QLRKtb",
    "ExecuteTime": {
     "end_time": "2024-08-04T11:14:41.271170Z",
     "start_time": "2024-08-04T11:14:41.251648Z"
    }
   },
   "source": [
    "class MRIDataset(Dataset):\n",
    "    def __init__(self, data_path, labels_path, split=\"train\", transform=None, max_slices=None, random_state=42):\n",
    "        super().__init__()\n",
    "        self.data_path = data_path\n",
    "        self.labels_path = labels_path\n",
    "        self.transform = transform\n",
    "        self.max_slices = max_slices\n",
    "\n",
    "        self.labels = pd.read_csv(labels_path)\n",
    "        \n",
    "        normal_path = list(self.labels[self.labels['prediction'] == 0].reset_index(drop=True)[\"SeriesInstanceUID\"])\n",
    "        abnormal_path = list(self.labels[self.labels['prediction'] == 1].reset_index(drop=True)[\"SeriesInstanceUID\"])\n",
    "\n",
    "        normal_val_samples = int(len(normal_path) * 0.2)\n",
    "        abnormal_val_samples = int(len(abnormal_path) * 0.2)\n",
    "\n",
    "        if split == \"train\":\n",
    "            self.patient_list = normal_path[normal_val_samples*2:] + abnormal_path[abnormal_val_samples*2:]\n",
    "        elif split == \"val\":\n",
    "            self.patient_list = normal_path[:normal_val_samples] + abnormal_path[:abnormal_val_samples]\n",
    "        elif split == \"test\":\n",
    "            self.patient_list = normal_path[normal_val_samples: normal_val_samples*2] + abnormal_path[abnormal_val_samples: abnormal_val_samples*2]\n",
    "\n",
    "        random.Random(random_state).shuffle(self.patient_list)\n",
    "\n",
    "    def __len__(self):\n",
    "        return len(self.patient_list)\n",
    "    \n",
    "    def __getitem__(self, idx):\n",
    "        patient_id = self.patient_list[idx]\n",
    "        images = self.load_patient_images(patient_id)\n",
    "\n",
    "        if self.transform:\n",
    "            images = [self.transform(image) for image in images]\n",
    "        else:\n",
    "            images = [torch.tensor(img, dtype=torch.float32) for img in images]\n",
    "        \n",
    "        images = torch.stack(images) # [18,1,h,w] stack images along the 0th dimension\n",
    "        images = images.squeeze(1) # [18,h,w] remove the channel dimension\n",
    "\n",
    "        label = self.labels[self.labels['SeriesInstanceUID'] == patient_id]['prediction'].values\n",
    "        label = torch.tensor(label, dtype=torch.long)\n",
    "\n",
    "        return images, label    \n",
    "    \n",
    "    def load_patient_images(self, patient_id):\n",
    "\n",
    "        patient_dir = os.path.join(self.data_path, patient_id)\n",
    "        dcm_paths = [os.path.join(patient_dir, f) for f in os.listdir(patient_dir) if f.endswith('.dcm')]\n",
    "\n",
    "        images = []\n",
    "        for dcm_path in dcm_paths:\n",
    "            dcm_data = pydicom.dcmread(dcm_path)\n",
    "            image_array = dcm_data.pixel_array\n",
    "            image_array = image_array / np.max(image_array) # normalize the image\n",
    "            images.append(image_array)\n",
    "           \n",
    "        # pad the images to max_slices\n",
    "        if self.max_slices:\n",
    "            padding_needed = self.max_slices - len(images)\n",
    "            if padding_needed > 0:\n",
    "                padding_image = np.zeros_like(images[0])\n",
    "                images.extend([padding_image] * padding_needed)\n",
    "\n",
    "        return images\n",
    "    "
   ],
   "outputs": [],
   "execution_count": 60
  },
  {
   "cell_type": "code",
   "metadata": {
    "ExecuteTime": {
     "end_time": "2024-08-04T11:14:41.483884Z",
     "start_time": "2024-08-04T11:14:41.451840Z"
    }
   },
   "source": [
    "from datasets import MRIDataset\n",
    "\n",
    "data_path = os.path.join(\"C:\\\\Users\\\\asus\\\\Desktop\\\\iaaa-mri-train\", \"data\")\n",
    "labels_path = \"train.csv\"\n",
    "batch_size = 32\n",
    "\n",
    "resize_transform = transforms.Compose([\n",
    "    transforms.ToTensor(),  # converts image to tensor of shape (1, h, w)\n",
    "    transforms.Resize((256, 256)),  # resize to 256x256\n",
    "    transforms.Lambda(lambda x: x.type(torch.float32))\n",
    "])\n",
    "\n",
    "train_dataset = MRIDataset(\n",
    "    data_path, labels_path, split=\"train\", transform=resize_transform, max_slices=20)\n",
    "val_dataset = MRIDataset(data_path, labels_path, split=\"val\",\n",
    "                         transform=resize_transform, max_slices=20)\n",
    "test_dataset = MRIDataset(\n",
    "    data_path, labels_path, split=\"test\", transform=resize_transform, max_slices=20)\n",
    "\n",
    "\n",
    "train_dl = DataLoader(train_dataset, batch_size, shuffle=True)\n",
    "val_dl = DataLoader(val_dataset, batch_size)\n",
    "test_dl = DataLoader(test_dataset, batch_size)"
   ],
   "outputs": [],
   "execution_count": 61
  },
  {
   "cell_type": "code",
   "metadata": {
    "ExecuteTime": {
     "end_time": "2024-08-04T11:14:42.481794Z",
     "start_time": "2024-08-04T11:14:42.343995Z"
    }
   },
   "source": [
    "image_, label_ = next(iter(train_dataset))\n",
    "print(image_.size())\n",
    "print(label_)"
   ],
   "outputs": [
    {
     "name": "stdout",
     "output_type": "stream",
     "text": [
      "torch.Size([20, 256, 256])\n",
      "tensor([0])\n"
     ]
    }
   ],
   "execution_count": 62
  },
  {
   "cell_type": "code",
   "metadata": {
    "id": "FhrEhPg9Oz5d",
    "ExecuteTime": {
     "end_time": "2024-08-04T11:14:49.500707Z",
     "start_time": "2024-08-04T11:14:42.710691Z"
    }
   },
   "source": [
    "image_, label_ = next(iter(train_dl))\n",
    "print(image_.size())\n",
    "print(label_.size())"
   ],
   "outputs": [
    {
     "name": "stdout",
     "output_type": "stream",
     "text": [
      "torch.Size([32, 20, 256, 256])\n",
      "torch.Size([32, 1])\n"
     ]
    }
   ],
   "execution_count": 63
  },
  {
   "cell_type": "code",
   "metadata": {
    "ExecuteTime": {
     "end_time": "2024-08-04T11:14:49.504729Z",
     "start_time": "2024-08-04T11:14:49.500707Z"
    }
   },
   "source": [
    "print(len(train_dataset))\n",
    "print(len(test_dataset))"
   ],
   "outputs": [
    {
     "name": "stdout",
     "output_type": "stream",
     "text": [
      "1880\n",
      "626\n"
     ]
    }
   ],
   "execution_count": 64
  },
  {
   "cell_type": "code",
   "metadata": {
    "ExecuteTime": {
     "end_time": "2024-08-04T11:14:49.509784Z",
     "start_time": "2024-08-04T11:14:49.504729Z"
    }
   },
   "source": [
    "print(len(train_dl))\n",
    "print(len(test_dl))"
   ],
   "outputs": [
    {
     "name": "stdout",
     "output_type": "stream",
     "text": [
      "59\n",
      "20\n"
     ]
    }
   ],
   "execution_count": 65
  },
  {
   "cell_type": "code",
   "metadata": {
    "ExecuteTime": {
     "end_time": "2024-08-04T11:14:49.515355Z",
     "start_time": "2024-08-04T11:14:49.509784Z"
    }
   },
   "source": [
    "# the model\n",
    "\n",
    "class CNN(nn.Module):\n",
    "    def __init__(self, in_channels=20, out_channels=1):\n",
    "        super().__init__()\n",
    "\n",
    "        self.cnn1 = nn.Conv2d(in_channels=in_channels, out_channels=64, kernel_size=5) \n",
    "        # size-> (64,252,252)\n",
    "        self.maxpool = nn.MaxPool2d(kernel_size=2) \n",
    "        # size -> (64,126,126)\n",
    "        self.cnn2 = nn.Conv2d(in_channels=64, out_channels=128, kernel_size=5) \n",
    "        # size -> (128,122,122)\n",
    "        # maxpool -> (128,61,61)\n",
    "        self.fc1 = nn.Linear(128*61*61, 300)\n",
    "        self.fc2 = nn.Linear(300,1)\n",
    "\n",
    "    def forward(self, x):\n",
    "        x = F.relu(self.cnn1(x))\n",
    "        x = self.maxpool(x)\n",
    "        x = F.relu(self.cnn2(x))\n",
    "        x = self.maxpool(x)\n",
    "        x = x.view(x.size(0), -1) # flatten\n",
    "\n",
    "        x = F.relu(self.fc1(x))\n",
    "        x = self.fc2(x)\n",
    "        return x"
   ],
   "outputs": [],
   "execution_count": 66
  },
  {
   "cell_type": "code",
   "metadata": {
    "ExecuteTime": {
     "end_time": "2024-08-04T11:15:03.179704Z",
     "start_time": "2024-08-04T11:14:49.515355Z"
    }
   },
   "source": [
    "data_, _ = next(iter(train_dl))\n",
    "model = CNN()\n",
    "model(data_).size()"
   ],
   "outputs": [
    {
     "data": {
      "text/plain": [
       "torch.Size([32, 1])"
      ]
     },
     "execution_count": 67,
     "metadata": {},
     "output_type": "execute_result"
    }
   ],
   "execution_count": 67
  },
  {
   "cell_type": "code",
   "metadata": {
    "ExecuteTime": {
     "end_time": "2024-08-04T11:15:03.186063Z",
     "start_time": "2024-08-04T11:15:03.179704Z"
    }
   },
   "source": [
    "# loss and optimizer\n",
    "\n",
    "epochs = 10\n",
    "learning_rate = 0.001\n",
    "criterion = nn.BCEWithLogitsLoss()\n",
    "optimizer = optim.Adam(model.parameters(), lr=learning_rate)"
   ],
   "outputs": [],
   "execution_count": 68
  },
  {
   "cell_type": "code",
   "metadata": {
    "ExecuteTime": {
     "end_time": "2024-08-04T11:15:03.473348Z",
     "start_time": "2024-08-04T11:15:03.186063Z"
    }
   },
   "source": [
    "model = model.to(device=device)\n",
    "criterion = criterion.to(device=device)"
   ],
   "outputs": [],
   "execution_count": 69
  },
  {
   "cell_type": "code",
   "metadata": {
    "ExecuteTime": {
     "end_time": "2024-08-04T11:15:09.061471Z",
     "start_time": "2024-08-04T11:15:03.473348Z"
    }
   },
   "source": [
    "for epoch in range(epochs):\n",
    "    model.train()\n",
    "    train_loss = 0.0\n",
    "    train_correct = 0.0\n",
    "\n",
    "    #batch \n",
    "    for images, labels in tqdm(train_dl):\n",
    "\n",
    "\n",
    "        images = images.to(device=device)\n",
    "        labels = labels.to(device=device)\n",
    "\n",
    "        labels = labels.float() # BCEWithLogitsLoss expect folats\n",
    "\n",
    "        #forward pass\n",
    "        outputs = model(images) # torch.Size([32, 1])\n",
    "        loss = criterion(outputs, labels)\n",
    "\n",
    "        # backward and optimizer\n",
    "        optimizer.zero_grad()\n",
    "        loss.backward()\n",
    "        optimizer.step()\n",
    "\n",
    "        train_loss += loss.item()\n",
    "\n",
    "        preds = (outputs > 0).float()  # convert logits to binary predictions\n",
    "        train_correct += (preds == labels).sum().item()\n",
    "\n",
    "        # evaluate\n",
    "        model.eval()\n",
    "        test_correct = 0.0\n",
    "        \n",
    "        with torch.no_grad():\n",
    "            for images, labels in test_dl:\n",
    "\n",
    "                images = images.to(device=device)\n",
    "                labels = labels.to(device=device)\n",
    "\n",
    "                outputs = model(images)\n",
    "\n",
    "                preds = (outputs > 0).float()  # convert logits to binary predictions\n",
    "                test_correct += (preds == labels).sum().item()\n",
    "        \n",
    "    train_accuracy = train_correct / len(train_dataset)\n",
    "    test_accuracy = test_correct / len(test_dataset)\n",
    "\n",
    "    print(f\"Epoch {epoch+1}/{epochs}, train Loss: {train_loss:.4f}, train accuracy: {train_accuracy:.4f}\")\n",
    "    print(f\"Epoch {epoch+1}/{epochs}, test accuracy: {test_accuracy:.4f}\")"
   ],
   "outputs": [
    {
     "name": "stderr",
     "output_type": "stream",
     "text": [
      "  0%|          | 0/59 [00:05<?, ?it/s]\n"
     ]
    },
    {
     "ename": "OutOfMemoryError",
     "evalue": "CUDA out of memory. Tried to allocate 498.00 MiB. GPU 0 has a total capacity of 4.00 GiB of which 0 bytes is free. Of the allocated memory 2.90 GiB is allocated by PyTorch, and 422.77 MiB is reserved by PyTorch but unallocated. If reserved but unallocated memory is large try setting PYTORCH_CUDA_ALLOC_CONF=expandable_segments:True to avoid fragmentation.  See documentation for Memory Management  (https://pytorch.org/docs/stable/notes/cuda.html#environment-variables)",
     "output_type": "error",
     "traceback": [
      "\u001B[1;31m---------------------------------------------------------------------------\u001B[0m",
      "\u001B[1;31mOutOfMemoryError\u001B[0m                          Traceback (most recent call last)",
      "Cell \u001B[1;32mIn[70], line 16\u001B[0m\n\u001B[0;32m     13\u001B[0m labels \u001B[38;5;241m=\u001B[39m labels\u001B[38;5;241m.\u001B[39mfloat() \u001B[38;5;66;03m# BCEWithLogitsLoss expect folats\u001B[39;00m\n\u001B[0;32m     15\u001B[0m \u001B[38;5;66;03m#forward pass\u001B[39;00m\n\u001B[1;32m---> 16\u001B[0m outputs \u001B[38;5;241m=\u001B[39m \u001B[43mmodel\u001B[49m\u001B[43m(\u001B[49m\u001B[43mimages\u001B[49m\u001B[43m)\u001B[49m \u001B[38;5;66;03m# torch.Size([32, 1])\u001B[39;00m\n\u001B[0;32m     17\u001B[0m loss \u001B[38;5;241m=\u001B[39m criterion(outputs, labels)\n\u001B[0;32m     19\u001B[0m \u001B[38;5;66;03m# backward and optimizer\u001B[39;00m\n",
      "File \u001B[1;32m~\\PycharmProjects\\iaaa-project\\venv\\Lib\\site-packages\\torch\\nn\\modules\\module.py:1553\u001B[0m, in \u001B[0;36mModule._wrapped_call_impl\u001B[1;34m(self, *args, **kwargs)\u001B[0m\n\u001B[0;32m   1551\u001B[0m     \u001B[38;5;28;01mreturn\u001B[39;00m \u001B[38;5;28mself\u001B[39m\u001B[38;5;241m.\u001B[39m_compiled_call_impl(\u001B[38;5;241m*\u001B[39margs, \u001B[38;5;241m*\u001B[39m\u001B[38;5;241m*\u001B[39mkwargs)  \u001B[38;5;66;03m# type: ignore[misc]\u001B[39;00m\n\u001B[0;32m   1552\u001B[0m \u001B[38;5;28;01melse\u001B[39;00m:\n\u001B[1;32m-> 1553\u001B[0m     \u001B[38;5;28;01mreturn\u001B[39;00m \u001B[38;5;28;43mself\u001B[39;49m\u001B[38;5;241;43m.\u001B[39;49m\u001B[43m_call_impl\u001B[49m\u001B[43m(\u001B[49m\u001B[38;5;241;43m*\u001B[39;49m\u001B[43margs\u001B[49m\u001B[43m,\u001B[49m\u001B[43m \u001B[49m\u001B[38;5;241;43m*\u001B[39;49m\u001B[38;5;241;43m*\u001B[39;49m\u001B[43mkwargs\u001B[49m\u001B[43m)\u001B[49m\n",
      "File \u001B[1;32m~\\PycharmProjects\\iaaa-project\\venv\\Lib\\site-packages\\torch\\nn\\modules\\module.py:1562\u001B[0m, in \u001B[0;36mModule._call_impl\u001B[1;34m(self, *args, **kwargs)\u001B[0m\n\u001B[0;32m   1557\u001B[0m \u001B[38;5;66;03m# If we don't have any hooks, we want to skip the rest of the logic in\u001B[39;00m\n\u001B[0;32m   1558\u001B[0m \u001B[38;5;66;03m# this function, and just call forward.\u001B[39;00m\n\u001B[0;32m   1559\u001B[0m \u001B[38;5;28;01mif\u001B[39;00m \u001B[38;5;129;01mnot\u001B[39;00m (\u001B[38;5;28mself\u001B[39m\u001B[38;5;241m.\u001B[39m_backward_hooks \u001B[38;5;129;01mor\u001B[39;00m \u001B[38;5;28mself\u001B[39m\u001B[38;5;241m.\u001B[39m_backward_pre_hooks \u001B[38;5;129;01mor\u001B[39;00m \u001B[38;5;28mself\u001B[39m\u001B[38;5;241m.\u001B[39m_forward_hooks \u001B[38;5;129;01mor\u001B[39;00m \u001B[38;5;28mself\u001B[39m\u001B[38;5;241m.\u001B[39m_forward_pre_hooks\n\u001B[0;32m   1560\u001B[0m         \u001B[38;5;129;01mor\u001B[39;00m _global_backward_pre_hooks \u001B[38;5;129;01mor\u001B[39;00m _global_backward_hooks\n\u001B[0;32m   1561\u001B[0m         \u001B[38;5;129;01mor\u001B[39;00m _global_forward_hooks \u001B[38;5;129;01mor\u001B[39;00m _global_forward_pre_hooks):\n\u001B[1;32m-> 1562\u001B[0m     \u001B[38;5;28;01mreturn\u001B[39;00m \u001B[43mforward_call\u001B[49m\u001B[43m(\u001B[49m\u001B[38;5;241;43m*\u001B[39;49m\u001B[43margs\u001B[49m\u001B[43m,\u001B[49m\u001B[43m \u001B[49m\u001B[38;5;241;43m*\u001B[39;49m\u001B[38;5;241;43m*\u001B[39;49m\u001B[43mkwargs\u001B[49m\u001B[43m)\u001B[49m\n\u001B[0;32m   1564\u001B[0m \u001B[38;5;28;01mtry\u001B[39;00m:\n\u001B[0;32m   1565\u001B[0m     result \u001B[38;5;241m=\u001B[39m \u001B[38;5;28;01mNone\u001B[39;00m\n",
      "Cell \u001B[1;32mIn[66], line 18\u001B[0m, in \u001B[0;36mCNN.forward\u001B[1;34m(self, x)\u001B[0m\n\u001B[0;32m     17\u001B[0m \u001B[38;5;28;01mdef\u001B[39;00m \u001B[38;5;21mforward\u001B[39m(\u001B[38;5;28mself\u001B[39m, x):\n\u001B[1;32m---> 18\u001B[0m     x \u001B[38;5;241m=\u001B[39m \u001B[43mF\u001B[49m\u001B[38;5;241;43m.\u001B[39;49m\u001B[43mrelu\u001B[49m\u001B[43m(\u001B[49m\u001B[38;5;28;43mself\u001B[39;49m\u001B[38;5;241;43m.\u001B[39;49m\u001B[43mcnn1\u001B[49m\u001B[43m(\u001B[49m\u001B[43mx\u001B[49m\u001B[43m)\u001B[49m\u001B[43m)\u001B[49m\n\u001B[0;32m     19\u001B[0m     x \u001B[38;5;241m=\u001B[39m \u001B[38;5;28mself\u001B[39m\u001B[38;5;241m.\u001B[39mmaxpool(x)\n\u001B[0;32m     20\u001B[0m     x \u001B[38;5;241m=\u001B[39m F\u001B[38;5;241m.\u001B[39mrelu(\u001B[38;5;28mself\u001B[39m\u001B[38;5;241m.\u001B[39mcnn2(x))\n",
      "File \u001B[1;32m~\\PycharmProjects\\iaaa-project\\venv\\Lib\\site-packages\\torch\\nn\\functional.py:1500\u001B[0m, in \u001B[0;36mrelu\u001B[1;34m(input, inplace)\u001B[0m\n\u001B[0;32m   1498\u001B[0m     result \u001B[38;5;241m=\u001B[39m torch\u001B[38;5;241m.\u001B[39mrelu_(\u001B[38;5;28minput\u001B[39m)\n\u001B[0;32m   1499\u001B[0m \u001B[38;5;28;01melse\u001B[39;00m:\n\u001B[1;32m-> 1500\u001B[0m     result \u001B[38;5;241m=\u001B[39m \u001B[43mtorch\u001B[49m\u001B[38;5;241;43m.\u001B[39;49m\u001B[43mrelu\u001B[49m\u001B[43m(\u001B[49m\u001B[38;5;28;43minput\u001B[39;49m\u001B[43m)\u001B[49m\n\u001B[0;32m   1501\u001B[0m \u001B[38;5;28;01mreturn\u001B[39;00m result\n",
      "\u001B[1;31mOutOfMemoryError\u001B[0m: CUDA out of memory. Tried to allocate 498.00 MiB. GPU 0 has a total capacity of 4.00 GiB of which 0 bytes is free. Of the allocated memory 2.90 GiB is allocated by PyTorch, and 422.77 MiB is reserved by PyTorch but unallocated. If reserved but unallocated memory is large try setting PYTORCH_CUDA_ALLOC_CONF=expandable_segments:True to avoid fragmentation.  See documentation for Memory Management  (https://pytorch.org/docs/stable/notes/cuda.html#environment-variables)"
     ]
    }
   ],
   "execution_count": 70
  },
  {
   "cell_type": "code",
   "metadata": {},
   "source": [
    "torch.save(model.state_dict(), \"model_parameters1.pth\")"
   ],
   "outputs": [],
   "execution_count": null
  },
  {
   "cell_type": "code",
   "metadata": {},
   "source": [
    "torch.save(model, 'model1.pth')"
   ],
   "outputs": [],
   "execution_count": null
  },
  {
   "cell_type": "code",
   "metadata": {},
   "source": [
    "model = CNN().to(device=device)\n",
    "model.load_state_dict(torch.load(\"saved_models/model_parameters1.pth\"))"
   ],
   "outputs": [],
   "execution_count": null
  },
  {
   "cell_type": "code",
   "metadata": {},
   "source": [
    "import numpy as np\n",
    "from sklearn.metrics import precision_score, recall_score, roc_auc_score\n",
    "\n",
    "# Evaluate\n",
    "model.eval()\n",
    "test_correct = 0.0\n",
    "all_labels = []\n",
    "all_preds = []\n",
    "\n",
    "with torch.no_grad():\n",
    "    for images, labels in test_dl:\n",
    "        images = images.to(device=device)\n",
    "        labels = labels.to(device=device)\n",
    "\n",
    "        outputs = model(images)\n",
    "\n",
    "        preds = (outputs > 0).float()  # convert logits to binary predictions\n",
    "        test_correct += (preds == labels).sum().item()\n",
    "\n",
    "        all_labels.extend(labels.cpu().numpy())\n",
    "        all_preds.extend(outputs.cpu().numpy())\n",
    "\n",
    "test_accuracy = test_correct / len(test_dataset)\n",
    "\n",
    "all_labels = np.array(all_labels)\n",
    "all_preds = np.array(all_preds)\n",
    "all_preds_binary = (all_preds > 0).astype(float)\n",
    "\n",
    "precision = precision_score(all_labels, all_preds_binary)\n",
    "recall = recall_score(all_labels, all_preds_binary)\n",
    "auc = roc_auc_score(all_labels, all_preds)\n",
    "\n",
    "print(f\"Test Accuracy: {test_accuracy:.4f}, Precision: {precision:.4f}, Recall: {recall:.4f}, AUC: {auc:.4f}\")\n"
   ],
   "outputs": [],
   "execution_count": null
  },
  {
   "cell_type": "code",
   "metadata": {},
   "source": [
    "import torch\n",
    "from tqdm import tqdm\n",
    "from sklearn.metrics import precision_score, recall_score, roc_auc_score\n",
    "import numpy as np\n",
    "\n",
    "# Early stopping parameters\n",
    "patience = 5\n",
    "best_avg_metric = 0\n",
    "epochs_no_improve = 0\n",
    "\n",
    "for epoch in range(epochs):\n",
    "    model.train()\n",
    "    train_loss = 0.0\n",
    "    train_correct = 0.0\n",
    "\n",
    "    for images, labels in tqdm(train_dl):\n",
    "        images = images.to(device=device)\n",
    "        labels = labels.to(device=device)\n",
    "\n",
    "        labels = labels.float()  # BCEWithLogitsLoss expects floats\n",
    "\n",
    "        # forward pass\n",
    "        outputs = model(images)\n",
    "        loss = criterion(outputs, labels)\n",
    "\n",
    "        # backward and optimizer\n",
    "        optimizer.zero_grad()\n",
    "        loss.backward()\n",
    "        optimizer.step()\n",
    "\n",
    "        train_loss += loss.item()\n",
    "\n",
    "        preds = (outputs > 0).float()  # convert logits to binary predictions\n",
    "        train_correct += (preds == labels).sum().item()\n",
    "\n",
    "    train_accuracy = train_correct / len(train_dataset)\n",
    "\n",
    "    # Evaluate\n",
    "    model.eval()\n",
    "    test_correct = 0.0\n",
    "    all_labels = []\n",
    "    all_preds = []\n",
    "\n",
    "    with torch.no_grad():\n",
    "        for images, labels in test_dl:\n",
    "            images = images.to(device=device)\n",
    "            labels = labels.to(device=device)\n",
    "\n",
    "            outputs = model(images)\n",
    "\n",
    "            preds = (outputs > 0).float()  # convert logits to binary predictions\n",
    "            test_correct += (preds == labels).sum().item()\n",
    "\n",
    "            all_labels.extend(labels.cpu().numpy())\n",
    "            all_preds.extend(outputs.cpu().numpy())\n",
    "\n",
    "    test_accuracy = test_correct / len(test_dataset)\n",
    "\n",
    "    all_labels = np.array(all_labels)\n",
    "    all_preds = np.array(all_preds)\n",
    "    all_preds_binary = (all_preds > 0).astype(float)\n",
    "\n",
    "    precision = precision_score(all_labels, all_preds_binary)\n",
    "    recall = recall_score(all_labels, all_preds_binary)\n",
    "    auc = roc_auc_score(all_labels, all_preds)\n",
    "\n",
    "    avg_metric = (precision + recall + auc) / 3\n",
    "\n",
    "    print(f\"Epoch {epoch+1}/{epochs}, Train Loss: {train_loss:.4f}, Train Accuracy: {train_accuracy:.4f}\")\n",
    "    print(f\"Epoch {epoch+1}/{epochs}, Test Accuracy: {test_accuracy:.4f}, Precision: {precision:.4f}, Recall: {recall:.4f}, AUC: {auc:.4f}, Avg Metric: {avg_metric:.4f}\")\n",
    "\n",
    "    # Early stopping\n",
    "    if avg_metric > best_avg_metric:\n",
    "        best_avg_metric = avg_metric\n",
    "        epochs_no_improve = 0\n",
    "    else:\n",
    "        epochs_no_improve += 1\n",
    "\n",
    "    if epochs_no_improve >= patience:\n",
    "        print(\"Early stopping triggered\")\n",
    "        break\n"
   ],
   "outputs": [],
   "execution_count": null
  },
  {
   "cell_type": "code",
   "metadata": {},
   "source": [
    "from torchvision import transforms, models\n",
    "\n",
    "resnet_model = models.resnet50(pretrained=True)\n"
   ],
   "outputs": [],
   "execution_count": null
  },
  {
   "metadata": {},
   "cell_type": "code",
   "outputs": [],
   "execution_count": null,
   "source": ""
  }
 ],
 "metadata": {
  "colab": {
   "provenance": []
  },
  "kernelspec": {
   "display_name": "Python 3 (ipykernel)",
   "name": "python3",
   "language": "python"
  },
  "language_info": {
   "codemirror_mode": {
    "name": "ipython",
    "version": 3
   },
   "file_extension": ".py",
   "mimetype": "text/x-python",
   "name": "python",
   "nbconvert_exporter": "python",
   "pygments_lexer": "ipython3",
   "version": "3.9.6"
  }
 },
 "nbformat": 4,
 "nbformat_minor": 0
}
