{
 "cells": [
  {
   "cell_type": "code",
   "execution_count": 1,
   "metadata": {},
   "outputs": [
    {
     "data": {
      "text/plain": [
       "'\\nchallenge: resnet input: 3 channels images, the mri images: 20 channels\\n-> 1 layer (conv2d) to transform 16 to 3 berfore resnet model\\n\\nchallenge: using pretrained resent50 model and update all parameters (aksh-ai)\\nor just fine tune last layer\\n-> update all parameters\\nchallenge: resnet-50 transform normalizing is not applicable\\nwe have gray scale 18 channel data \\n'"
      ]
     },
     "execution_count": 1,
     "metadata": {},
     "output_type": "execute_result"
    }
   ],
   "source": [
    "'''\n",
    "challenge: resnet input: 3 channels images, the mri images: 20 channels\n",
    "-> 1 layer (conv2d) to transform 16 to 3 berfore resnet model\n",
    "\n",
    "challenge: using pretrained resent50 model and update all parameters (aksh-ai)\n",
    "or just fine tune last layer\n",
    "-> update all parameters\n",
    "challenge: resnet-50 transform normalizing is not applicable\n",
    "we have gray scale 18 channel data \n",
    "'''\n"
   ]
  },
  {
   "cell_type": "code",
   "execution_count": 2,
   "metadata": {},
   "outputs": [],
   "source": [
    "import os\n",
    "\n",
    "import numpy as np\n",
    "import pandas as pd\n",
    "from sklearn.utils.class_weight import compute_class_weight\n",
    "\n",
    "import torch\n",
    "import torch.nn as nn\n",
    "import torch.optim as optim\n",
    "from torchvision import transforms\n",
    "from torch.utils.data import DataLoader\n",
    "\n",
    "from config import Config, Device\n",
    "from datasets import MRIDataset\n",
    "from models import MriResentModel\n",
    "from train import Trainer\n",
    "from test_file import Tester"
   ]
  },
  {
   "cell_type": "code",
   "execution_count": 3,
   "metadata": {},
   "outputs": [
    {
     "name": "stdout",
     "output_type": "stream",
     "text": [
      "mps\n"
     ]
    }
   ],
   "source": [
    "device = Device.device\n",
    "print(device)"
   ]
  },
  {
   "cell_type": "code",
   "execution_count": 4,
   "metadata": {},
   "outputs": [],
   "source": [
    "data_path = os.path.join(os.getcwd(), \"data\")\n",
    "labels_path = \"train.csv\"\n",
    "\n",
    "batch_size = Config.batch_size\n",
    "num_epochs = Config.num_epochs\n",
    "learning_rate = Config.learning_rate\n",
    "image_size = 256"
   ]
  },
  {
   "cell_type": "code",
   "execution_count": 5,
   "metadata": {},
   "outputs": [],
   "source": [
    "train_transforms = transforms.Compose([\n",
    "    transforms.ToTensor(),\n",
    "    transforms.Resize((image_size, image_size)),\n",
    "    transforms.RandomHorizontalFlip(),\n",
    "    transforms.RandomRotation(10),\n",
    "    # transforms.Normalize([0.485, 0.456, 0.406], [0.229, 0.224, 0.225])\n",
    "])\n",
    "\n",
    "test_transforms = transforms.Compose([\n",
    "    transforms.ToTensor(),\n",
    "    transforms.Resize((image_size, image_size)),\n",
    "    # transforms.Normalize([0.485, 0.456, 0.406], [0.229, 0.224, 0.225])\n",
    "])"
   ]
  },
  {
   "cell_type": "code",
   "execution_count": 6,
   "metadata": {},
   "outputs": [],
   "source": [
    "train_dataset = MRIDataset(\n",
    "    data_path, labels_path, split=\"train\", transform=train_transforms, max_slices=20)\n",
    "    \n",
    "val_dataset = MRIDataset(data_path, labels_path, split=\"val\",\n",
    "                         transform=test_transforms, max_slices=20)\n",
    "test_dataset = MRIDataset(\n",
    "    data_path, labels_path, split=\"test\", transform=test_transforms, max_slices=20)\n",
    "\n",
    "\n",
    "train_dl = DataLoader(train_dataset, batch_size, shuffle=True)\n",
    "val_dl = DataLoader(val_dataset, batch_size)\n",
    "test_dl = DataLoader(test_dataset, batch_size)"
   ]
  },
  {
   "cell_type": "code",
   "execution_count": 7,
   "metadata": {},
   "outputs": [
    {
     "name": "stderr",
     "output_type": "stream",
     "text": [
      "/Users/fateme/Projects/iaaa-project/iaaa-venv/lib/python3.12/site-packages/torchvision/models/_utils.py:208: UserWarning: The parameter 'pretrained' is deprecated since 0.13 and may be removed in the future, please use 'weights' instead.\n",
      "  warnings.warn(\n",
      "/Users/fateme/Projects/iaaa-project/iaaa-venv/lib/python3.12/site-packages/torchvision/models/_utils.py:223: UserWarning: Arguments other than a weight enum or `None` for 'weights' are deprecated since 0.13 and may be removed in the future. The current behavior is equivalent to passing `weights=ResNet50_Weights.IMAGENET1K_V1`. You can also use `weights=ResNet50_Weights.DEFAULT` to get the most up-to-date weights.\n",
      "  warnings.warn(msg)\n"
     ]
    }
   ],
   "source": [
    "model = MriResentModel(20,1).to(device)"
   ]
  },
  {
   "cell_type": "code",
   "execution_count": 8,
   "metadata": {},
   "outputs": [
    {
     "name": "stdout",
     "output_type": "stream",
     "text": [
      "tensor([0.5713, 4.0051])\n",
      "Class Weights: tensor(4.0051)\n"
     ]
    }
   ],
   "source": [
    "def compute_class_weights_from_csv(csv_file_path):\n",
    "    df = pd.read_csv(csv_file_path)\n",
    "\n",
    "    labels = df['prediction'].values\n",
    "\n",
    "    labels = labels.astype(int)\n",
    "\n",
    "    # Compute class weights\n",
    "    unique_labels = np.unique(labels)\n",
    "    class_weights = compute_class_weight(\n",
    "        class_weight='balanced', classes=unique_labels, y=labels)\n",
    "\n",
    "    # Convert to torch tensor\n",
    "    return torch.tensor(class_weights, dtype=torch.float)\n",
    "\n",
    "\n",
    "class_weights = compute_class_weights_from_csv(labels_path)\n",
    "print(class_weights)\n",
    "# For binary classification, use the appropriate class weight\n",
    "# Assuming binary classification with class labels 0 and 1\n",
    "class_weights = class_weights[1]  # Adjust if necessary\n",
    "print(\"Class Weights:\", class_weights)"
   ]
  },
  {
   "cell_type": "code",
   "execution_count": 9,
   "metadata": {},
   "outputs": [],
   "source": [
    "class FocalLoss(nn.Module):\n",
    "    \"\"\"\n",
    "    The focal loss for fighting against class-imbalance\n",
    "    \"\"\"\n",
    "    def __init__(self, class_weights, device, alpha=1, gamma=2):\n",
    "        super(FocalLoss, self).__init__()\n",
    "        self.alpha = alpha\n",
    "        self.gamma = gamma\n",
    "        self.epsilon = 1e-12  # prevent training from Nan-loss error\n",
    "        self.device = device\n",
    "        \n",
    "        # Ensure class_weights is a tensor and moved to the correct device\n",
    "        self.class_weights = class_weights.clone().detach().to(self.device) if class_weights is not None else None\n",
    "\n",
    "    def forward(self, logits, target):\n",
    "        \"\"\"\n",
    "        logits & target should be tensors with shape [batch_size, num_classes]\n",
    "        \"\"\"\n",
    "        probs = torch.sigmoid(logits)\n",
    "        one_subtract_probs = 1.0 - probs\n",
    "        # add epsilon\n",
    "        probs_new = probs + self.epsilon\n",
    "        one_subtract_probs_new = one_subtract_probs + self.epsilon\n",
    "        # calculate focal loss\n",
    "        log_pt = target * torch.log(probs_new) + (1.0 - target) * torch.log(one_subtract_probs_new)\n",
    "        pt = torch.exp(log_pt)\n",
    "        focal_loss = -1.0 * (self.alpha * (1 - pt) ** self.gamma) * log_pt\n",
    "\n",
    "\n",
    "        if self.class_weights is not None:\n",
    "            focal_loss = focal_loss * self.class_weights\n",
    "        \n",
    "        return torch.mean(focal_loss)\n"
   ]
  },
  {
   "cell_type": "code",
   "execution_count": 10,
   "metadata": {},
   "outputs": [],
   "source": [
    "optimizer = optim.SGD(model.parameters(), lr=0.01, momentum=0.9, weight_decay=1e-4)"
   ]
  },
  {
   "cell_type": "code",
   "execution_count": 11,
   "metadata": {},
   "outputs": [
    {
     "data": {
      "text/plain": [
       "'MriResentModel'"
      ]
     },
     "execution_count": 11,
     "metadata": {},
     "output_type": "execute_result"
    }
   ],
   "source": [
    "model_name = model.__class__.__name__\n",
    "model_name"
   ]
  },
  {
   "cell_type": "code",
   "execution_count": 12,
   "metadata": {},
   "outputs": [
    {
     "name": "stderr",
     "output_type": "stream",
     "text": [
      "100%|██████████| 59/59 [02:49<00:00,  2.87s/it]\n"
     ]
    },
    {
     "name": "stdout",
     "output_type": "stream",
     "text": [
      "Confusion Matrix:\n",
      "[[548   0]\n",
      " [ 78   0]]\n",
      "Epoch 1/100, Train Loss: 25.5248, Train Accuracy: 0.8638\n",
      "Epoch 1/100, Val Accuracy: 0.8754, Precision: 0.0000, Recall: 0.0000, AUC: 0.5955, Avg Metric: 0.1985\n"
     ]
    },
    {
     "name": "stderr",
     "output_type": "stream",
     "text": [
      "100%|██████████| 59/59 [02:59<00:00,  3.04s/it]\n"
     ]
    },
    {
     "name": "stdout",
     "output_type": "stream",
     "text": [
      "Confusion Matrix:\n",
      "[[548   0]\n",
      " [ 78   0]]\n",
      "Epoch 2/100, Train Loss: 22.1772, Train Accuracy: 0.8739\n",
      "Epoch 2/100, Val Accuracy: 0.8754, Precision: 0.0000, Recall: 0.0000, AUC: 0.6015, Avg Metric: 0.2005\n"
     ]
    },
    {
     "name": "stderr",
     "output_type": "stream",
     "text": [
      "100%|██████████| 59/59 [02:49<00:00,  2.88s/it]\n"
     ]
    },
    {
     "name": "stdout",
     "output_type": "stream",
     "text": [
      "Confusion Matrix:\n",
      "[[541   7]\n",
      " [ 75   3]]\n",
      "Epoch 3/100, Train Loss: 22.6883, Train Accuracy: 0.8718\n",
      "Epoch 3/100, Val Accuracy: 0.8690, Precision: 0.3000, Recall: 0.0385, AUC: 0.6329, Avg Metric: 0.3238\n"
     ]
    },
    {
     "name": "stderr",
     "output_type": "stream",
     "text": [
      "100%|██████████| 59/59 [02:45<00:00,  2.81s/it]\n"
     ]
    },
    {
     "name": "stdout",
     "output_type": "stream",
     "text": [
      "Confusion Matrix:\n",
      "[[548   0]\n",
      " [ 78   0]]\n",
      "Epoch 4/100, Train Loss: 21.4023, Train Accuracy: 0.8686\n",
      "Epoch 4/100, Val Accuracy: 0.8754, Precision: 0.0000, Recall: 0.0000, AUC: 0.6108, Avg Metric: 0.2036\n"
     ]
    },
    {
     "name": "stderr",
     "output_type": "stream",
     "text": [
      "100%|██████████| 59/59 [02:44<00:00,  2.80s/it]\n"
     ]
    },
    {
     "name": "stdout",
     "output_type": "stream",
     "text": [
      "Confusion Matrix:\n",
      "[[300 248]\n",
      " [ 24  54]]\n",
      "Epoch 5/100, Train Loss: 20.4392, Train Accuracy: 0.8739\n",
      "Epoch 5/100, Val Accuracy: 0.5655, Precision: 0.1788, Recall: 0.6923, AUC: 0.6463, Avg Metric: 0.5058\n"
     ]
    },
    {
     "name": "stderr",
     "output_type": "stream",
     "text": [
      "100%|██████████| 59/59 [02:42<00:00,  2.75s/it]\n"
     ]
    },
    {
     "name": "stdout",
     "output_type": "stream",
     "text": [
      "Confusion Matrix:\n",
      "[[548   0]\n",
      " [ 78   0]]\n",
      "Epoch 6/100, Train Loss: 19.5426, Train Accuracy: 0.8761\n",
      "Epoch 6/100, Val Accuracy: 0.8754, Precision: 0.0000, Recall: 0.0000, AUC: 0.6366, Avg Metric: 0.2122\n"
     ]
    },
    {
     "name": "stderr",
     "output_type": "stream",
     "text": [
      "100%|██████████| 59/59 [02:42<00:00,  2.75s/it]\n"
     ]
    },
    {
     "name": "stdout",
     "output_type": "stream",
     "text": [
      "Confusion Matrix:\n",
      "[[535  13]\n",
      " [ 73   5]]\n",
      "Epoch 7/100, Train Loss: 18.6146, Train Accuracy: 0.8862\n",
      "Epoch 7/100, Val Accuracy: 0.8626, Precision: 0.2778, Recall: 0.0641, AUC: 0.6496, Avg Metric: 0.3305\n"
     ]
    },
    {
     "name": "stderr",
     "output_type": "stream",
     "text": [
      "100%|██████████| 59/59 [02:40<00:00,  2.73s/it]\n"
     ]
    },
    {
     "name": "stdout",
     "output_type": "stream",
     "text": [
      "Confusion Matrix:\n",
      "[[476  72]\n",
      " [ 64  14]]\n",
      "Epoch 8/100, Train Loss: 15.7454, Train Accuracy: 0.8936\n",
      "Epoch 8/100, Val Accuracy: 0.7827, Precision: 0.1628, Recall: 0.1795, AUC: 0.6016, Avg Metric: 0.3146\n"
     ]
    },
    {
     "name": "stderr",
     "output_type": "stream",
     "text": [
      "100%|██████████| 59/59 [02:40<00:00,  2.72s/it]\n"
     ]
    },
    {
     "name": "stdout",
     "output_type": "stream",
     "text": [
      "Confusion Matrix:\n",
      "[[546   2]\n",
      " [ 76   2]]\n",
      "Epoch 9/100, Train Loss: 14.7121, Train Accuracy: 0.9032\n",
      "Epoch 9/100, Val Accuracy: 0.8754, Precision: 0.5000, Recall: 0.0256, AUC: 0.5545, Avg Metric: 0.3600\n"
     ]
    },
    {
     "name": "stderr",
     "output_type": "stream",
     "text": [
      "100%|██████████| 59/59 [02:40<00:00,  2.72s/it]\n"
     ]
    },
    {
     "name": "stdout",
     "output_type": "stream",
     "text": [
      "Confusion Matrix:\n",
      "[[523  25]\n",
      " [ 71   7]]\n",
      "Epoch 10/100, Train Loss: 13.4269, Train Accuracy: 0.9059\n",
      "Epoch 10/100, Val Accuracy: 0.8466, Precision: 0.2188, Recall: 0.0897, AUC: 0.6368, Avg Metric: 0.3151\n"
     ]
    },
    {
     "name": "stderr",
     "output_type": "stream",
     "text": [
      "100%|██████████| 59/59 [02:40<00:00,  2.72s/it]\n"
     ]
    },
    {
     "name": "stdout",
     "output_type": "stream",
     "text": [
      "Confusion Matrix:\n",
      "[[533  15]\n",
      " [ 75   3]]\n",
      "Epoch 11/100, Train Loss: 11.5894, Train Accuracy: 0.9223\n",
      "Epoch 11/100, Val Accuracy: 0.8562, Precision: 0.1667, Recall: 0.0385, AUC: 0.6046, Avg Metric: 0.2699\n"
     ]
    },
    {
     "name": "stderr",
     "output_type": "stream",
     "text": [
      "100%|██████████| 59/59 [02:40<00:00,  2.72s/it]\n"
     ]
    },
    {
     "name": "stdout",
     "output_type": "stream",
     "text": [
      "Confusion Matrix:\n",
      "[[534  14]\n",
      " [ 73   5]]\n",
      "Epoch 12/100, Train Loss: 11.7959, Train Accuracy: 0.9245\n",
      "Epoch 12/100, Val Accuracy: 0.8610, Precision: 0.2632, Recall: 0.0641, AUC: 0.5457, Avg Metric: 0.2910\n"
     ]
    },
    {
     "name": "stderr",
     "output_type": "stream",
     "text": [
      "100%|██████████| 59/59 [02:39<00:00,  2.71s/it]\n"
     ]
    },
    {
     "name": "stdout",
     "output_type": "stream",
     "text": [
      "Confusion Matrix:\n",
      "[[524  24]\n",
      " [ 69   9]]\n",
      "Epoch 13/100, Train Loss: 10.4826, Train Accuracy: 0.9378\n",
      "Epoch 13/100, Val Accuracy: 0.8514, Precision: 0.2727, Recall: 0.1154, AUC: 0.6536, Avg Metric: 0.3472\n"
     ]
    },
    {
     "name": "stderr",
     "output_type": "stream",
     "text": [
      "100%|██████████| 59/59 [02:39<00:00,  2.70s/it]\n"
     ]
    },
    {
     "name": "stdout",
     "output_type": "stream",
     "text": [
      "Confusion Matrix:\n",
      "[[542   6]\n",
      " [ 75   3]]\n",
      "Epoch 14/100, Train Loss: 9.0263, Train Accuracy: 0.9378\n",
      "Epoch 14/100, Val Accuracy: 0.8706, Precision: 0.3333, Recall: 0.0385, AUC: 0.5901, Avg Metric: 0.3206\n"
     ]
    },
    {
     "name": "stderr",
     "output_type": "stream",
     "text": [
      "100%|██████████| 59/59 [02:39<00:00,  2.70s/it]\n"
     ]
    },
    {
     "name": "stdout",
     "output_type": "stream",
     "text": [
      "Confusion Matrix:\n",
      "[[423 125]\n",
      " [ 54  24]]\n",
      "Epoch 15/100, Train Loss: 8.6091, Train Accuracy: 0.9527\n",
      "Epoch 15/100, Val Accuracy: 0.7141, Precision: 0.1611, Recall: 0.3077, AUC: 0.5817, Avg Metric: 0.3501\n"
     ]
    },
    {
     "name": "stderr",
     "output_type": "stream",
     "text": [
      "100%|██████████| 59/59 [02:41<00:00,  2.74s/it]\n"
     ]
    },
    {
     "name": "stdout",
     "output_type": "stream",
     "text": [
      "Confusion Matrix:\n",
      "[[436 112]\n",
      " [ 55  23]]\n",
      "Epoch 16/100, Train Loss: 7.4380, Train Accuracy: 0.9532\n",
      "Epoch 16/100, Val Accuracy: 0.7332, Precision: 0.1704, Recall: 0.2949, AUC: 0.5753, Avg Metric: 0.3468\n"
     ]
    },
    {
     "name": "stderr",
     "output_type": "stream",
     "text": [
      "100%|██████████| 59/59 [02:49<00:00,  2.87s/it]\n"
     ]
    },
    {
     "name": "stdout",
     "output_type": "stream",
     "text": [
      "Confusion Matrix:\n",
      "[[541   7]\n",
      " [ 76   2]]\n",
      "Epoch 17/100, Train Loss: 7.6423, Train Accuracy: 0.9521\n",
      "Epoch 17/100, Val Accuracy: 0.8674, Precision: 0.2222, Recall: 0.0256, AUC: 0.5979, Avg Metric: 0.2819\n"
     ]
    },
    {
     "name": "stderr",
     "output_type": "stream",
     "text": [
      "100%|██████████| 59/59 [02:49<00:00,  2.87s/it]\n"
     ]
    },
    {
     "name": "stdout",
     "output_type": "stream",
     "text": [
      "Confusion Matrix:\n",
      "[[496  52]\n",
      " [ 69   9]]\n",
      "Epoch 18/100, Train Loss: 5.5409, Train Accuracy: 0.9612\n",
      "Epoch 18/100, Val Accuracy: 0.8067, Precision: 0.1475, Recall: 0.1154, AUC: 0.5877, Avg Metric: 0.2835\n"
     ]
    },
    {
     "name": "stderr",
     "output_type": "stream",
     "text": [
      "100%|██████████| 59/59 [02:48<00:00,  2.86s/it]\n"
     ]
    },
    {
     "name": "stdout",
     "output_type": "stream",
     "text": [
      "Confusion Matrix:\n",
      "[[504  44]\n",
      " [ 63  15]]\n",
      "Epoch 19/100, Train Loss: 5.1252, Train Accuracy: 0.9697\n",
      "Epoch 19/100, Val Accuracy: 0.8291, Precision: 0.2542, Recall: 0.1923, AUC: 0.5874, Avg Metric: 0.3446\n"
     ]
    },
    {
     "name": "stderr",
     "output_type": "stream",
     "text": [
      "100%|██████████| 59/59 [02:49<00:00,  2.87s/it]\n"
     ]
    },
    {
     "name": "stdout",
     "output_type": "stream",
     "text": [
      "Confusion Matrix:\n",
      "[[354 194]\n",
      " [ 49  29]]\n",
      "Epoch 20/100, Train Loss: 4.3034, Train Accuracy: 0.9734\n",
      "Epoch 20/100, Val Accuracy: 0.6118, Precision: 0.1300, Recall: 0.3718, AUC: 0.5849, Avg Metric: 0.3622\n"
     ]
    },
    {
     "name": "stderr",
     "output_type": "stream",
     "text": [
      "100%|██████████| 59/59 [02:48<00:00,  2.86s/it]\n"
     ]
    },
    {
     "name": "stdout",
     "output_type": "stream",
     "text": [
      "Confusion Matrix:\n",
      "[[516  32]\n",
      " [ 70   8]]\n",
      "Epoch 21/100, Train Loss: 5.4088, Train Accuracy: 0.9606\n",
      "Epoch 21/100, Val Accuracy: 0.8371, Precision: 0.2000, Recall: 0.1026, AUC: 0.5997, Avg Metric: 0.3008\n"
     ]
    },
    {
     "name": "stderr",
     "output_type": "stream",
     "text": [
      "100%|██████████| 59/59 [02:48<00:00,  2.86s/it]\n"
     ]
    },
    {
     "name": "stdout",
     "output_type": "stream",
     "text": [
      "Confusion Matrix:\n",
      "[[499  49]\n",
      " [ 70   8]]\n",
      "Epoch 22/100, Train Loss: 5.0036, Train Accuracy: 0.9660\n",
      "Epoch 22/100, Val Accuracy: 0.8099, Precision: 0.1404, Recall: 0.1026, AUC: 0.5907, Avg Metric: 0.2779\n"
     ]
    },
    {
     "name": "stderr",
     "output_type": "stream",
     "text": [
      "100%|██████████| 59/59 [02:49<00:00,  2.87s/it]\n"
     ]
    },
    {
     "name": "stdout",
     "output_type": "stream",
     "text": [
      "Confusion Matrix:\n",
      "[[515  33]\n",
      " [ 69   9]]\n",
      "Epoch 23/100, Train Loss: 3.1486, Train Accuracy: 0.9824\n",
      "Epoch 23/100, Val Accuracy: 0.8371, Precision: 0.2143, Recall: 0.1154, AUC: 0.6356, Avg Metric: 0.3217\n"
     ]
    },
    {
     "name": "stderr",
     "output_type": "stream",
     "text": [
      "100%|██████████| 59/59 [02:48<00:00,  2.85s/it]\n"
     ]
    },
    {
     "name": "stdout",
     "output_type": "stream",
     "text": [
      "Confusion Matrix:\n",
      "[[534  14]\n",
      " [ 75   3]]\n",
      "Epoch 24/100, Train Loss: 3.5631, Train Accuracy: 0.9766\n",
      "Epoch 24/100, Val Accuracy: 0.8578, Precision: 0.1765, Recall: 0.0385, AUC: 0.6288, Avg Metric: 0.2812\n"
     ]
    },
    {
     "name": "stderr",
     "output_type": "stream",
     "text": [
      "100%|██████████| 59/59 [02:49<00:00,  2.87s/it]\n"
     ]
    },
    {
     "name": "stdout",
     "output_type": "stream",
     "text": [
      "Confusion Matrix:\n",
      "[[341 207]\n",
      " [ 42  36]]\n",
      "Epoch 25/100, Train Loss: 2.6217, Train Accuracy: 0.9824\n",
      "Epoch 25/100, Val Accuracy: 0.6022, Precision: 0.1481, Recall: 0.4615, AUC: 0.5810, Avg Metric: 0.3969\n"
     ]
    },
    {
     "name": "stderr",
     "output_type": "stream",
     "text": [
      "100%|██████████| 59/59 [02:47<00:00,  2.84s/it]\n"
     ]
    },
    {
     "name": "stdout",
     "output_type": "stream",
     "text": [
      "Confusion Matrix:\n",
      "[[508  40]\n",
      " [ 68  10]]\n",
      "Epoch 26/100, Train Loss: 3.9106, Train Accuracy: 0.9766\n",
      "Epoch 26/100, Val Accuracy: 0.8275, Precision: 0.2000, Recall: 0.1282, AUC: 0.6034, Avg Metric: 0.3105\n"
     ]
    },
    {
     "name": "stderr",
     "output_type": "stream",
     "text": [
      "100%|██████████| 59/59 [02:46<00:00,  2.83s/it]\n"
     ]
    },
    {
     "name": "stdout",
     "output_type": "stream",
     "text": [
      "Confusion Matrix:\n",
      "[[530  18]\n",
      " [ 72   6]]\n",
      "Epoch 27/100, Train Loss: 2.1412, Train Accuracy: 0.9867\n",
      "Epoch 27/100, Val Accuracy: 0.8562, Precision: 0.2500, Recall: 0.0769, AUC: 0.5364, Avg Metric: 0.2878\n"
     ]
    },
    {
     "name": "stderr",
     "output_type": "stream",
     "text": [
      "100%|██████████| 59/59 [02:47<00:00,  2.84s/it]\n"
     ]
    },
    {
     "name": "stdout",
     "output_type": "stream",
     "text": [
      "Confusion Matrix:\n",
      "[[529  19]\n",
      " [ 75   3]]\n",
      "Epoch 28/100, Train Loss: 3.3405, Train Accuracy: 0.9814\n",
      "Epoch 28/100, Val Accuracy: 0.8498, Precision: 0.1364, Recall: 0.0385, AUC: 0.5344, Avg Metric: 0.2364\n"
     ]
    },
    {
     "name": "stderr",
     "output_type": "stream",
     "text": [
      "100%|██████████| 59/59 [02:46<00:00,  2.82s/it]\n"
     ]
    },
    {
     "name": "stdout",
     "output_type": "stream",
     "text": [
      "Confusion Matrix:\n",
      "[[472  76]\n",
      " [ 60  18]]\n",
      "Epoch 29/100, Train Loss: 2.8875, Train Accuracy: 0.9809\n",
      "Epoch 29/100, Val Accuracy: 0.7827, Precision: 0.1915, Recall: 0.2308, AUC: 0.6118, Avg Metric: 0.3447\n"
     ]
    },
    {
     "name": "stderr",
     "output_type": "stream",
     "text": [
      "100%|██████████| 59/59 [02:45<00:00,  2.80s/it]\n"
     ]
    },
    {
     "name": "stdout",
     "output_type": "stream",
     "text": [
      "Confusion Matrix:\n",
      "[[532  16]\n",
      " [ 73   5]]\n",
      "Epoch 30/100, Train Loss: 2.2915, Train Accuracy: 0.9851\n",
      "Epoch 30/100, Val Accuracy: 0.8578, Precision: 0.2381, Recall: 0.0641, AUC: 0.6116, Avg Metric: 0.3046\n"
     ]
    },
    {
     "name": "stderr",
     "output_type": "stream",
     "text": [
      "100%|██████████| 59/59 [02:44<00:00,  2.79s/it]\n"
     ]
    },
    {
     "name": "stdout",
     "output_type": "stream",
     "text": [
      "Confusion Matrix:\n",
      "[[513  35]\n",
      " [ 68  10]]\n",
      "Epoch 31/100, Train Loss: 2.7067, Train Accuracy: 0.9846\n",
      "Epoch 31/100, Val Accuracy: 0.8355, Precision: 0.2222, Recall: 0.1282, AUC: 0.5865, Avg Metric: 0.3123\n"
     ]
    },
    {
     "name": "stderr",
     "output_type": "stream",
     "text": [
      "100%|██████████| 59/59 [02:45<00:00,  2.80s/it]\n"
     ]
    },
    {
     "name": "stdout",
     "output_type": "stream",
     "text": [
      "Confusion Matrix:\n",
      "[[519  29]\n",
      " [ 66  12]]\n",
      "Epoch 32/100, Train Loss: 1.6604, Train Accuracy: 0.9894\n",
      "Epoch 32/100, Val Accuracy: 0.8482, Precision: 0.2927, Recall: 0.1538, AUC: 0.6133, Avg Metric: 0.3533\n"
     ]
    },
    {
     "name": "stderr",
     "output_type": "stream",
     "text": [
      "100%|██████████| 59/59 [02:45<00:00,  2.80s/it]\n"
     ]
    },
    {
     "name": "stdout",
     "output_type": "stream",
     "text": [
      "Confusion Matrix:\n",
      "[[536  12]\n",
      " [ 76   2]]\n",
      "Epoch 33/100, Train Loss: 1.9249, Train Accuracy: 0.9867\n",
      "Epoch 33/100, Val Accuracy: 0.8594, Precision: 0.1429, Recall: 0.0256, AUC: 0.5667, Avg Metric: 0.2451\n"
     ]
    },
    {
     "name": "stderr",
     "output_type": "stream",
     "text": [
      "100%|██████████| 59/59 [02:45<00:00,  2.80s/it]\n"
     ]
    },
    {
     "name": "stdout",
     "output_type": "stream",
     "text": [
      "Confusion Matrix:\n",
      "[[526  22]\n",
      " [ 70   8]]\n",
      "Epoch 34/100, Train Loss: 1.4289, Train Accuracy: 0.9904\n",
      "Epoch 34/100, Val Accuracy: 0.8530, Precision: 0.2667, Recall: 0.1026, AUC: 0.6005, Avg Metric: 0.3232\n"
     ]
    },
    {
     "name": "stderr",
     "output_type": "stream",
     "text": [
      "100%|██████████| 59/59 [02:45<00:00,  2.80s/it]\n"
     ]
    },
    {
     "name": "stdout",
     "output_type": "stream",
     "text": [
      "Confusion Matrix:\n",
      "[[500  48]\n",
      " [ 60  18]]\n",
      "Epoch 35/100, Train Loss: 1.9910, Train Accuracy: 0.9867\n",
      "Epoch 35/100, Val Accuracy: 0.8275, Precision: 0.2727, Recall: 0.2308, AUC: 0.6143, Avg Metric: 0.3726\n"
     ]
    },
    {
     "name": "stderr",
     "output_type": "stream",
     "text": [
      "100%|██████████| 59/59 [02:46<00:00,  2.81s/it]\n"
     ]
    },
    {
     "name": "stdout",
     "output_type": "stream",
     "text": [
      "Confusion Matrix:\n",
      "[[528  20]\n",
      " [ 71   7]]\n",
      "Epoch 36/100, Train Loss: 3.2035, Train Accuracy: 0.9761\n",
      "Epoch 36/100, Val Accuracy: 0.8546, Precision: 0.2593, Recall: 0.0897, AUC: 0.5714, Avg Metric: 0.3068\n"
     ]
    },
    {
     "name": "stderr",
     "output_type": "stream",
     "text": [
      "100%|██████████| 59/59 [02:35<00:00,  2.64s/it]\n"
     ]
    },
    {
     "name": "stdout",
     "output_type": "stream",
     "text": [
      "Confusion Matrix:\n",
      "[[504  44]\n",
      " [ 67  11]]\n",
      "Epoch 37/100, Train Loss: 1.5241, Train Accuracy: 0.9926\n",
      "Epoch 37/100, Val Accuracy: 0.8227, Precision: 0.2000, Recall: 0.1410, AUC: 0.5765, Avg Metric: 0.3058\n"
     ]
    },
    {
     "name": "stderr",
     "output_type": "stream",
     "text": [
      "100%|██████████| 59/59 [02:35<00:00,  2.64s/it]\n"
     ]
    },
    {
     "name": "stdout",
     "output_type": "stream",
     "text": [
      "Confusion Matrix:\n",
      "[[531  17]\n",
      " [ 73   5]]\n",
      "Epoch 38/100, Train Loss: 1.3521, Train Accuracy: 0.9904\n",
      "Epoch 38/100, Val Accuracy: 0.8562, Precision: 0.2273, Recall: 0.0641, AUC: 0.5927, Avg Metric: 0.2947\n"
     ]
    },
    {
     "name": "stderr",
     "output_type": "stream",
     "text": [
      "100%|██████████| 59/59 [02:35<00:00,  2.64s/it]\n"
     ]
    },
    {
     "name": "stdout",
     "output_type": "stream",
     "text": [
      "Confusion Matrix:\n",
      "[[527  21]\n",
      " [ 68  10]]\n",
      "Epoch 39/100, Train Loss: 2.2941, Train Accuracy: 0.9867\n",
      "Epoch 39/100, Val Accuracy: 0.8578, Precision: 0.3226, Recall: 0.1282, AUC: 0.6177, Avg Metric: 0.3562\n"
     ]
    },
    {
     "name": "stderr",
     "output_type": "stream",
     "text": [
      "100%|██████████| 59/59 [02:35<00:00,  2.64s/it]\n"
     ]
    },
    {
     "name": "stdout",
     "output_type": "stream",
     "text": [
      "Confusion Matrix:\n",
      "[[543   5]\n",
      " [ 78   0]]\n",
      "Epoch 40/100, Train Loss: 1.9222, Train Accuracy: 0.9856\n",
      "Epoch 40/100, Val Accuracy: 0.8674, Precision: 0.0000, Recall: 0.0000, AUC: 0.6025, Avg Metric: 0.2008\n"
     ]
    },
    {
     "name": "stderr",
     "output_type": "stream",
     "text": [
      "100%|██████████| 59/59 [02:35<00:00,  2.64s/it]\n"
     ]
    },
    {
     "name": "stdout",
     "output_type": "stream",
     "text": [
      "Confusion Matrix:\n",
      "[[533  15]\n",
      " [ 71   7]]\n",
      "Epoch 41/100, Train Loss: 2.5691, Train Accuracy: 0.9856\n",
      "Epoch 41/100, Val Accuracy: 0.8626, Precision: 0.3182, Recall: 0.0897, AUC: 0.5751, Avg Metric: 0.3277\n"
     ]
    },
    {
     "name": "stderr",
     "output_type": "stream",
     "text": [
      "100%|██████████| 59/59 [02:40<00:00,  2.72s/it]\n"
     ]
    },
    {
     "name": "stdout",
     "output_type": "stream",
     "text": [
      "Confusion Matrix:\n",
      "[[541   7]\n",
      " [ 76   2]]\n",
      "Epoch 42/100, Train Loss: 2.6873, Train Accuracy: 0.9824\n",
      "Epoch 42/100, Val Accuracy: 0.8674, Precision: 0.2222, Recall: 0.0256, AUC: 0.6286, Avg Metric: 0.2922\n"
     ]
    },
    {
     "name": "stderr",
     "output_type": "stream",
     "text": [
      "100%|██████████| 59/59 [02:41<00:00,  2.74s/it]\n"
     ]
    },
    {
     "name": "stdout",
     "output_type": "stream",
     "text": [
      "Confusion Matrix:\n",
      "[[502  46]\n",
      " [ 65  13]]\n",
      "Epoch 43/100, Train Loss: 0.9484, Train Accuracy: 0.9947\n",
      "Epoch 43/100, Val Accuracy: 0.8227, Precision: 0.2203, Recall: 0.1667, AUC: 0.5982, Avg Metric: 0.3284\n"
     ]
    },
    {
     "name": "stderr",
     "output_type": "stream",
     "text": [
      "100%|██████████| 59/59 [02:40<00:00,  2.72s/it]\n"
     ]
    },
    {
     "name": "stdout",
     "output_type": "stream",
     "text": [
      "Confusion Matrix:\n",
      "[[533  15]\n",
      " [ 71   7]]\n",
      "Epoch 44/100, Train Loss: 0.3400, Train Accuracy: 0.9989\n",
      "Epoch 44/100, Val Accuracy: 0.8626, Precision: 0.3182, Recall: 0.0897, AUC: 0.6455, Avg Metric: 0.3511\n"
     ]
    },
    {
     "name": "stderr",
     "output_type": "stream",
     "text": [
      "100%|██████████| 59/59 [02:34<00:00,  2.61s/it]\n"
     ]
    },
    {
     "name": "stdout",
     "output_type": "stream",
     "text": [
      "Confusion Matrix:\n",
      "[[532  16]\n",
      " [ 69   9]]\n",
      "Epoch 45/100, Train Loss: 0.2518, Train Accuracy: 0.9989\n",
      "Epoch 45/100, Val Accuracy: 0.8642, Precision: 0.3600, Recall: 0.1154, AUC: 0.6186, Avg Metric: 0.3647\n"
     ]
    },
    {
     "name": "stderr",
     "output_type": "stream",
     "text": [
      "100%|██████████| 59/59 [02:34<00:00,  2.61s/it]\n"
     ]
    },
    {
     "name": "stdout",
     "output_type": "stream",
     "text": [
      "Confusion Matrix:\n",
      "[[521  27]\n",
      " [ 67  11]]\n",
      "Epoch 46/100, Train Loss: 0.6602, Train Accuracy: 0.9968\n",
      "Epoch 46/100, Val Accuracy: 0.8498, Precision: 0.2895, Recall: 0.1410, AUC: 0.5920, Avg Metric: 0.3408\n"
     ]
    },
    {
     "name": "stderr",
     "output_type": "stream",
     "text": [
      "100%|██████████| 59/59 [02:34<00:00,  2.61s/it]\n"
     ]
    },
    {
     "name": "stdout",
     "output_type": "stream",
     "text": [
      "Confusion Matrix:\n",
      "[[522  26]\n",
      " [ 69   9]]\n",
      "Epoch 47/100, Train Loss: 1.2719, Train Accuracy: 0.9952\n",
      "Epoch 47/100, Val Accuracy: 0.8482, Precision: 0.2571, Recall: 0.1154, AUC: 0.5968, Avg Metric: 0.3231\n"
     ]
    },
    {
     "name": "stderr",
     "output_type": "stream",
     "text": [
      "100%|██████████| 59/59 [02:34<00:00,  2.61s/it]\n"
     ]
    },
    {
     "name": "stdout",
     "output_type": "stream",
     "text": [
      "Confusion Matrix:\n",
      "[[523  25]\n",
      " [ 69   9]]\n",
      "Epoch 48/100, Train Loss: 1.0563, Train Accuracy: 0.9947\n",
      "Epoch 48/100, Val Accuracy: 0.8498, Precision: 0.2647, Recall: 0.1154, AUC: 0.6326, Avg Metric: 0.3376\n"
     ]
    },
    {
     "name": "stderr",
     "output_type": "stream",
     "text": [
      "100%|██████████| 59/59 [02:34<00:00,  2.61s/it]\n"
     ]
    },
    {
     "name": "stdout",
     "output_type": "stream",
     "text": [
      "Confusion Matrix:\n",
      "[[522  26]\n",
      " [ 68  10]]\n",
      "Epoch 49/100, Train Loss: 1.1943, Train Accuracy: 0.9941\n",
      "Epoch 49/100, Val Accuracy: 0.8498, Precision: 0.2778, Recall: 0.1282, AUC: 0.6206, Avg Metric: 0.3422\n"
     ]
    },
    {
     "name": "stderr",
     "output_type": "stream",
     "text": [
      "100%|██████████| 59/59 [02:34<00:00,  2.62s/it]\n"
     ]
    },
    {
     "name": "stdout",
     "output_type": "stream",
     "text": [
      "Confusion Matrix:\n",
      "[[539   9]\n",
      " [ 69   9]]\n",
      "Epoch 50/100, Train Loss: 0.9140, Train Accuracy: 0.9957\n",
      "Epoch 50/100, Val Accuracy: 0.8754, Precision: 0.5000, Recall: 0.1154, AUC: 0.6064, Avg Metric: 0.4073\n"
     ]
    },
    {
     "name": "stderr",
     "output_type": "stream",
     "text": [
      "100%|██████████| 59/59 [02:34<00:00,  2.62s/it]\n"
     ]
    },
    {
     "name": "stdout",
     "output_type": "stream",
     "text": [
      "Confusion Matrix:\n",
      "[[528  20]\n",
      " [ 70   8]]\n",
      "Epoch 51/100, Train Loss: 1.1238, Train Accuracy: 0.9947\n",
      "Epoch 51/100, Val Accuracy: 0.8562, Precision: 0.2857, Recall: 0.1026, AUC: 0.5974, Avg Metric: 0.3286\n"
     ]
    },
    {
     "name": "stderr",
     "output_type": "stream",
     "text": [
      "100%|██████████| 59/59 [02:34<00:00,  2.61s/it]\n"
     ]
    },
    {
     "name": "stdout",
     "output_type": "stream",
     "text": [
      "Confusion Matrix:\n",
      "[[523  25]\n",
      " [ 67  11]]\n",
      "Epoch 52/100, Train Loss: 0.2519, Train Accuracy: 0.9989\n",
      "Epoch 52/100, Val Accuracy: 0.8530, Precision: 0.3056, Recall: 0.1410, AUC: 0.6183, Avg Metric: 0.3550\n"
     ]
    },
    {
     "name": "stderr",
     "output_type": "stream",
     "text": [
      "100%|██████████| 59/59 [02:34<00:00,  2.61s/it]\n"
     ]
    },
    {
     "name": "stdout",
     "output_type": "stream",
     "text": [
      "Confusion Matrix:\n",
      "[[514  34]\n",
      " [ 65  13]]\n",
      "Epoch 53/100, Train Loss: 0.1588, Train Accuracy: 0.9995\n",
      "Epoch 53/100, Val Accuracy: 0.8419, Precision: 0.2766, Recall: 0.1667, AUC: 0.6483, Avg Metric: 0.3639\n"
     ]
    },
    {
     "name": "stderr",
     "output_type": "stream",
     "text": [
      "100%|██████████| 59/59 [02:34<00:00,  2.62s/it]\n"
     ]
    },
    {
     "name": "stdout",
     "output_type": "stream",
     "text": [
      "Confusion Matrix:\n",
      "[[527  21]\n",
      " [ 72   6]]\n",
      "Epoch 54/100, Train Loss: 0.1793, Train Accuracy: 0.9989\n",
      "Epoch 54/100, Val Accuracy: 0.8514, Precision: 0.2222, Recall: 0.0769, AUC: 0.6399, Avg Metric: 0.3130\n"
     ]
    },
    {
     "name": "stderr",
     "output_type": "stream",
     "text": [
      "100%|██████████| 59/59 [02:34<00:00,  2.62s/it]\n"
     ]
    },
    {
     "name": "stdout",
     "output_type": "stream",
     "text": [
      "Confusion Matrix:\n",
      "[[514  34]\n",
      " [ 72   6]]\n",
      "Epoch 55/100, Train Loss: 0.7169, Train Accuracy: 0.9963\n",
      "Epoch 55/100, Val Accuracy: 0.8307, Precision: 0.1500, Recall: 0.0769, AUC: 0.6028, Avg Metric: 0.2766\n",
      "Early stopping triggered\n"
     ]
    }
   ],
   "source": [
    "criterion = nn.BCEWithLogitsLoss().to(device)\n",
    "\n",
    "trainer = Trainer(\n",
    "    model=model,\n",
    "    criterion=criterion,\n",
    "    optimizer=optimizer,\n",
    "    train_dl=train_dl,\n",
    "    val_dl=val_dl,\n",
    "    train_dataset=train_dataset,\n",
    "    val_dataset=val_dataset,\n",
    "    device=device,\n",
    "    num_epochs=100,\n",
    "    patience=50,\n",
    "    threshold=0.5,\n",
    "    save_path=f\"saved_models/{model_name}.pth\"\n",
    ")\n",
    "\n",
    "trainer.train()"
   ]
  },
  {
   "cell_type": "code",
   "execution_count": 12,
   "metadata": {},
   "outputs": [
    {
     "name": "stderr",
     "output_type": "stream",
     "text": [
      "/Users/fateme/Projects/iaaa-project/iaaa-venv/lib/python3.12/site-packages/torchvision/models/_utils.py:208: UserWarning: The parameter 'pretrained' is deprecated since 0.13 and may be removed in the future, please use 'weights' instead.\n",
      "  warnings.warn(\n",
      "/Users/fateme/Projects/iaaa-project/iaaa-venv/lib/python3.12/site-packages/torchvision/models/_utils.py:223: UserWarning: Arguments other than a weight enum or `None` for 'weights' are deprecated since 0.13 and may be removed in the future. The current behavior is equivalent to passing `weights=ResNet50_Weights.IMAGENET1K_V1`. You can also use `weights=ResNet50_Weights.DEFAULT` to get the most up-to-date weights.\n",
      "  warnings.warn(msg)\n"
     ]
    },
    {
     "data": {
      "text/plain": [
       "<All keys matched successfully>"
      ]
     },
     "execution_count": 12,
     "metadata": {},
     "output_type": "execute_result"
    }
   ],
   "source": [
    "model = MriResentModel(20,1).to(device)\n",
    "model.load_state_dict(torch.load(f\"saved_models/{model_name}.pth\"))"
   ]
  },
  {
   "cell_type": "code",
   "execution_count": 13,
   "metadata": {},
   "outputs": [
    {
     "name": "stdout",
     "output_type": "stream",
     "text": [
      "Confusion Matrix:\n",
      "[[307 241]\n",
      " [ 27  51]]\n",
      "Test Accuracy: 0.5719, Precision: 0.1747, Recall: 0.6538, AUC: 0.6642, Avg Metric: 0.4976\n"
     ]
    }
   ],
   "source": [
    "tester = Tester(\n",
    "    model=model,\n",
    "    test_dl=test_dl,\n",
    "    test_dataset=test_dataset,\n",
    "    device=device,\n",
    "    threshold=0.5\n",
    ")\n",
    "\n",
    "tester.test()"
   ]
  }
 ],
 "metadata": {
  "kernelspec": {
   "display_name": "myenv_1",
   "language": "python",
   "name": "python3"
  },
  "language_info": {
   "codemirror_mode": {
    "name": "ipython",
    "version": 3
   },
   "file_extension": ".py",
   "mimetype": "text/x-python",
   "name": "python",
   "nbconvert_exporter": "python",
   "pygments_lexer": "ipython3",
   "version": "3.12.2"
  }
 },
 "nbformat": 4,
 "nbformat_minor": 2
}
