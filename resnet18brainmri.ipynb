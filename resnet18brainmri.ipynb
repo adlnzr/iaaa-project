{
 "cells": [
  {
   "cell_type": "code",
   "execution_count": 1,
   "metadata": {},
   "outputs": [
    {
     "data": {
      "text/plain": [
       "'\\nmodel : BehradG/resnet-18-finetuned-MRI-Brain\\nresnet18 pretrained on brain mri images\\nmodel first layer modified to take 1-channel image instead of 3-channel\\nmodel last layer modified to output=1 instead of output=2\\nmodel fine tuned on just first layer and last layer \\n\\n'"
      ]
     },
     "execution_count": 1,
     "metadata": {},
     "output_type": "execute_result"
    }
   ],
   "source": [
    "'''\n",
    "model : BehradG/resnet-18-finetuned-MRI-Brain\n",
    "resnet18 pretrained on brain mri images\n",
    "model first layer modified to take 1-channel image instead of 3-channel\n",
    "model last layer modified to output=1 instead of output=2\n",
    "model fine tuned on just first layer and last layer \n",
    "\n",
    "'''"
   ]
  },
  {
   "cell_type": "code",
   "execution_count": 2,
   "metadata": {},
   "outputs": [
    {
     "name": "stderr",
     "output_type": "stream",
     "text": [
      "/Users/fateme/Projects/iaaa-project/iaaa-venv2/lib/python3.11/site-packages/tqdm/auto.py:21: TqdmWarning: IProgress not found. Please update jupyter and ipywidgets. See https://ipywidgets.readthedocs.io/en/stable/user_install.html\n",
      "  from .autonotebook import tqdm as notebook_tqdm\n"
     ]
    }
   ],
   "source": [
    "import os\n",
    "\n",
    "import numpy as np\n",
    "import pandas as pd\n",
    "# from sklearn.utils.class_weight import compute_class_weight       \n",
    "\n",
    "import torch\n",
    "import torch.nn as nn\n",
    "import torch.optim as optim\n",
    "from torchvision import transforms\n",
    "from torch.utils.data import DataLoader\n",
    "\n",
    "from config import Config, Device\n",
    "from datasets import MRIDataset, BalancedMRIDataset\n",
    "from models import ResNet18MRI\n",
    "from train import Trainer_for_resnet18\n",
    "from test_file import Tester    "
   ]
  },
  {
   "cell_type": "code",
   "execution_count": 3,
   "metadata": {},
   "outputs": [
    {
     "name": "stdout",
     "output_type": "stream",
     "text": [
      "mps\n"
     ]
    }
   ],
   "source": [
    "device = Device.device\n",
    "print(device)"
   ]
  },
  {
   "cell_type": "code",
   "execution_count": 4,
   "metadata": {},
   "outputs": [],
   "source": [
    "data_path = os.path.join(os.getcwd(), \"data\")\n",
    "labels_path = \"train.csv\"\n",
    "\n",
    "batch_size = Config.batch_size\n",
    "num_epochs = Config.num_epochs\n",
    "learning_rate = Config.learning_rate\n",
    "mean = Config.mean # mean of the entire datasaet\n",
    "std = Config.std # std of the entire dataaset\n",
    "image_size = 224"
   ]
  },
  {
   "cell_type": "code",
   "execution_count": 5,
   "metadata": {},
   "outputs": [],
   "source": [
    "resclaed_mean = round(mean/255,4) # re-scale the actual mean\n",
    "rescaled_std = round(std/255, 4) # re-scale the actual std\n",
    "\n",
    "train_transforms = transforms.Compose([\n",
    "    transforms.RandomRotation(degrees=10),\n",
    "    transforms.Resize((224, 224)),\n",
    "    transforms.ToTensor(),\n",
    "    transforms.Normalize(mean=[resclaed_mean], std=[rescaled_std])\n",
    "])\n",
    "\n",
    "augment_transforms = transforms.Compose([\n",
    "    transforms.RandomHorizontalFlip(),\n",
    "    transforms.RandomVerticalFlip(),\n",
    "    transforms.RandomRotation(10),\n",
    "    # transforms.RandomResizedCrop(224, scale=(0.8, 1.0)),\n",
    "    transforms.Resize((224, 224)),\n",
    "    transforms.ToTensor(),\n",
    "    transforms.Normalize(mean=[resclaed_mean], std=[rescaled_std])\n",
    "])\n",
    "\n",
    "test_transforms = transforms.Compose([\n",
    "    # transforms.Lambda(lambda img: img.astype(np.float32)),\n",
    "    transforms.ToTensor(),\n",
    "    transforms.Resize((224, 224)),\n",
    "    transforms.Normalize(mean=[resclaed_mean], std=[rescaled_std])\n",
    "])"
   ]
  },
  {
   "cell_type": "code",
   "execution_count": 6,
   "metadata": {},
   "outputs": [],
   "source": [
    "\n",
    "train_dataset = BalancedMRIDataset(\n",
    "    data_path,\n",
    "    labels_path,\n",
    "    split='train',\n",
    "    transform=train_transforms,\n",
    "    augment_transform=augment_transforms,\n",
    "    augment=True,\n",
    "    max_slices=20\n",
    ")\n",
    "\n",
    "val_dataset = BalancedMRIDataset(\n",
    "    data_path,\n",
    "    labels_path,\n",
    "    split='val',\n",
    "    transform=test_transforms,\n",
    "    max_slices=20\n",
    ")\n",
    "\n",
    "test_dataset = BalancedMRIDataset(\n",
    "    data_path,\n",
    "    labels_path,\n",
    "    split='test',\n",
    "    transform=test_transforms,\n",
    "    max_slices=20\n",
    ")\n",
    "\n",
    "train_dl = DataLoader(train_dataset, batch_size=32, shuffle=True)\n",
    "val_dl = DataLoader(val_dataset, batch_size=32)\n",
    "test_dl = DataLoader(test_dataset, batch_size=32)"
   ]
  },
  {
   "cell_type": "code",
   "execution_count": 7,
   "metadata": {},
   "outputs": [
    {
     "data": {
      "text/plain": [
       "torch.Size([32, 20, 224, 224])"
      ]
     },
     "execution_count": 7,
     "metadata": {},
     "output_type": "execute_result"
    }
   ],
   "source": [
    "data_, label_ = next(iter(train_dl))\n",
    "data_.size()"
   ]
  },
  {
   "cell_type": "code",
   "execution_count": 8,
   "metadata": {},
   "outputs": [
    {
     "name": "stderr",
     "output_type": "stream",
     "text": [
      "Some weights of ResNetForImageClassification were not initialized from the model checkpoint at BehradG/resnet-18-finetuned-MRI-Brain and are newly initialized because the shapes did not match:\n",
      "- resnet.embedder.embedder.convolution.weight: found shape torch.Size([64, 3, 7, 7]) in the checkpoint and torch.Size([64, 1, 7, 7]) in the model instantiated\n",
      "You should probably TRAIN this model on a down-stream task to be able to use it for predictions and inference.\n"
     ]
    }
   ],
   "source": [
    "model = ResNet18MRI().to(device=device)"
   ]
  },
  {
   "cell_type": "code",
   "execution_count": 9,
   "metadata": {},
   "outputs": [],
   "source": [
    "for param in model.parameters():\n",
    "    param.requires_grad = True"
   ]
  },
  {
   "cell_type": "code",
   "execution_count": 10,
   "metadata": {},
   "outputs": [],
   "source": [
    "# loss and optimizer\n",
    "\n",
    "# criterion = nn.BCEWithLogitsLoss().to(device)\n",
    "# criterion = nn.BCEWithLogitsLoss(pos_weight=class_weights).to(device)\n",
    "criterion = nn.BCEWithLogitsLoss().to(device)\n",
    "# optimizer = optim.SGD(model.parameters(), lr=0.01, momentum=0.9, weight_decay=1e-4)\n",
    "optimizer = torch.optim.AdamW(model.parameters(), lr=1e-4, weight_decay=1e-5)"
   ]
  },
  {
   "cell_type": "code",
   "execution_count": 11,
   "metadata": {},
   "outputs": [
    {
     "data": {
      "text/plain": [
       "'ResNet18MRI'"
      ]
     },
     "execution_count": 11,
     "metadata": {},
     "output_type": "execute_result"
    }
   ],
   "source": [
    "model_name = model.__class__.__name__\n",
    "model_name"
   ]
  },
  {
   "cell_type": "code",
   "execution_count": 12,
   "metadata": {},
   "outputs": [
    {
     "name": "stderr",
     "output_type": "stream",
     "text": [
      "100%|██████████| 89/89 [06:06<00:00,  4.12s/it]\n"
     ]
    },
    {
     "name": "stdout",
     "output_type": "stream",
     "text": [
      "Confusion Matrix:\n",
      "[[10900    60]\n",
      " [ 1560     0]]\n",
      "Epoch 1/100, Train Loss: 819.7164, Train Accuracy: 0.7755\n",
      "Epoch 1/100, Val Accuracy: 0.8706, Precision: 0.0000, Recall: 0.0000, AUC: 0.4973, Avg Metric: 0.2902\n"
     ]
    },
    {
     "name": "stderr",
     "output_type": "stream",
     "text": [
      "100%|██████████| 89/89 [06:37<00:00,  4.47s/it]\n"
     ]
    },
    {
     "name": "stdout",
     "output_type": "stream",
     "text": [
      "Confusion Matrix:\n",
      "[[9820 1140]\n",
      " [1460  100]]\n",
      "Epoch 2/100, Train Loss: 803.9556, Train Accuracy: 0.7911\n",
      "Epoch 2/100, Val Accuracy: 0.7923, Precision: 0.0806, Recall: 0.0641, AUC: 0.4800, Avg Metric: 0.3124\n"
     ]
    },
    {
     "name": "stderr",
     "output_type": "stream",
     "text": [
      "100%|██████████| 89/89 [06:39<00:00,  4.48s/it]\n"
     ]
    },
    {
     "name": "stdout",
     "output_type": "stream",
     "text": [
      "Confusion Matrix:\n",
      "[[10920    40]\n",
      " [ 1560     0]]\n",
      "Epoch 3/100, Train Loss: 787.3235, Train Accuracy: 0.7883\n",
      "Epoch 3/100, Val Accuracy: 0.8722, Precision: 0.0000, Recall: 0.0000, AUC: 0.4982, Avg Metric: 0.2907\n"
     ]
    },
    {
     "name": "stderr",
     "output_type": "stream",
     "text": [
      "100%|██████████| 89/89 [06:32<00:00,  4.41s/it]\n"
     ]
    },
    {
     "name": "stdout",
     "output_type": "stream",
     "text": [
      "Confusion Matrix:\n",
      "[[10960     0]\n",
      " [ 1560     0]]\n",
      "Epoch 4/100, Train Loss: 752.8545, Train Accuracy: 0.7972\n",
      "Epoch 4/100, Val Accuracy: 0.8754, Precision: 0.0000, Recall: 0.0000, AUC: 0.5000, Avg Metric: 0.2918\n"
     ]
    },
    {
     "name": "stderr",
     "output_type": "stream",
     "text": [
      "100%|██████████| 89/89 [06:25<00:00,  4.33s/it]\n"
     ]
    },
    {
     "name": "stdout",
     "output_type": "stream",
     "text": [
      "Confusion Matrix:\n",
      "[[10920    40]\n",
      " [ 1560     0]]\n",
      "Epoch 5/100, Train Loss: 678.4534, Train Accuracy: 0.8177\n",
      "Epoch 5/100, Val Accuracy: 0.8722, Precision: 0.0000, Recall: 0.0000, AUC: 0.4982, Avg Metric: 0.2907\n"
     ]
    },
    {
     "name": "stderr",
     "output_type": "stream",
     "text": [
      "100%|██████████| 89/89 [06:09<00:00,  4.15s/it]\n"
     ]
    },
    {
     "name": "stdout",
     "output_type": "stream",
     "text": [
      "Confusion Matrix:\n",
      "[[9900 1060]\n",
      " [1360  200]]\n",
      "Epoch 6/100, Train Loss: 606.7041, Train Accuracy: 0.8585\n",
      "Epoch 6/100, Val Accuracy: 0.8067, Precision: 0.1587, Recall: 0.1282, AUC: 0.5157, Avg Metric: 0.3645\n"
     ]
    },
    {
     "name": "stderr",
     "output_type": "stream",
     "text": [
      "100%|██████████| 89/89 [06:10<00:00,  4.17s/it]\n"
     ]
    },
    {
     "name": "stdout",
     "output_type": "stream",
     "text": [
      "Confusion Matrix:\n",
      "[[10540   420]\n",
      " [ 1480    80]]\n",
      "Epoch 7/100, Train Loss: 549.7631, Train Accuracy: 0.8826\n",
      "Epoch 7/100, Val Accuracy: 0.8482, Precision: 0.1600, Recall: 0.0513, AUC: 0.5065, Avg Metric: 0.3532\n"
     ]
    },
    {
     "name": "stderr",
     "output_type": "stream",
     "text": [
      "100%|██████████| 89/89 [06:11<00:00,  4.17s/it]\n"
     ]
    },
    {
     "name": "stdout",
     "output_type": "stream",
     "text": [
      "Confusion Matrix:\n",
      "[[10560   400]\n",
      " [ 1440   120]]\n",
      "Epoch 8/100, Train Loss: 541.6665, Train Accuracy: 0.8865\n",
      "Epoch 8/100, Val Accuracy: 0.8530, Precision: 0.2308, Recall: 0.0769, AUC: 0.5202, Avg Metric: 0.3869\n"
     ]
    },
    {
     "name": "stderr",
     "output_type": "stream",
     "text": [
      "100%|██████████| 89/89 [06:08<00:00,  4.15s/it]\n"
     ]
    },
    {
     "name": "stdout",
     "output_type": "stream",
     "text": [
      "Confusion Matrix:\n",
      "[[10960     0]\n",
      " [ 1560     0]]\n",
      "Epoch 9/100, Train Loss: 516.2483, Train Accuracy: 0.8848\n",
      "Epoch 9/100, Val Accuracy: 0.8754, Precision: 0.0000, Recall: 0.0000, AUC: 0.5000, Avg Metric: 0.2918\n"
     ]
    },
    {
     "name": "stderr",
     "output_type": "stream",
     "text": [
      "100%|██████████| 89/89 [06:04<00:00,  4.10s/it]\n"
     ]
    },
    {
     "name": "stdout",
     "output_type": "stream",
     "text": [
      "Confusion Matrix:\n",
      "[[5700 5260]\n",
      " [ 680  880]]\n",
      "Epoch 10/100, Train Loss: 504.9040, Train Accuracy: 0.8840\n",
      "Epoch 10/100, Val Accuracy: 0.5256, Precision: 0.1433, Recall: 0.5641, AUC: 0.5421, Avg Metric: 0.4110\n"
     ]
    },
    {
     "name": "stderr",
     "output_type": "stream",
     "text": [
      "100%|██████████| 89/89 [06:01<00:00,  4.06s/it]\n"
     ]
    },
    {
     "name": "stdout",
     "output_type": "stream",
     "text": [
      "Confusion Matrix:\n",
      "[[10660   300]\n",
      " [ 1540    20]]\n",
      "Epoch 11/100, Train Loss: 500.0452, Train Accuracy: 0.8947\n",
      "Epoch 11/100, Val Accuracy: 0.8530, Precision: 0.0625, Recall: 0.0128, AUC: 0.4927, Avg Metric: 0.3095\n"
     ]
    },
    {
     "name": "stderr",
     "output_type": "stream",
     "text": [
      "100%|██████████| 89/89 [06:01<00:00,  4.06s/it]\n"
     ]
    },
    {
     "name": "stdout",
     "output_type": "stream",
     "text": [
      "Confusion Matrix:\n",
      "[[10660   300]\n",
      " [ 1460   100]]\n",
      "Epoch 12/100, Train Loss: 489.4446, Train Accuracy: 0.9046\n",
      "Epoch 12/100, Val Accuracy: 0.8594, Precision: 0.2500, Recall: 0.0641, AUC: 0.5184, Avg Metric: 0.3912\n"
     ]
    },
    {
     "name": "stderr",
     "output_type": "stream",
     "text": [
      "100%|██████████| 89/89 [06:01<00:00,  4.06s/it]\n"
     ]
    },
    {
     "name": "stdout",
     "output_type": "stream",
     "text": [
      "Confusion Matrix:\n",
      "[[10940    20]\n",
      " [ 1560     0]]\n",
      "Epoch 13/100, Train Loss: 486.7590, Train Accuracy: 0.8904\n",
      "Epoch 13/100, Val Accuracy: 0.8738, Precision: 0.0000, Recall: 0.0000, AUC: 0.4991, Avg Metric: 0.2913\n"
     ]
    },
    {
     "name": "stderr",
     "output_type": "stream",
     "text": [
      "100%|██████████| 89/89 [06:01<00:00,  4.06s/it]\n"
     ]
    },
    {
     "name": "stdout",
     "output_type": "stream",
     "text": [
      "Confusion Matrix:\n",
      "[[10540   420]\n",
      " [ 1400   160]]\n",
      "Epoch 14/100, Train Loss: 474.5050, Train Accuracy: 0.8982\n",
      "Epoch 14/100, Val Accuracy: 0.8546, Precision: 0.2759, Recall: 0.1026, AUC: 0.5321, Avg Metric: 0.4110\n"
     ]
    },
    {
     "name": "stderr",
     "output_type": "stream",
     "text": [
      "100%|██████████| 89/89 [06:00<00:00,  4.05s/it]\n"
     ]
    },
    {
     "name": "stdout",
     "output_type": "stream",
     "text": [
      "Confusion Matrix:\n",
      "[[10360   600]\n",
      " [ 1480    80]]\n",
      "Epoch 15/100, Train Loss: 463.4072, Train Accuracy: 0.9004\n",
      "Epoch 15/100, Val Accuracy: 0.8339, Precision: 0.1176, Recall: 0.0513, AUC: 0.4983, Avg Metric: 0.3343\n"
     ]
    },
    {
     "name": "stderr",
     "output_type": "stream",
     "text": [
      "100%|██████████| 89/89 [06:01<00:00,  4.06s/it]\n"
     ]
    },
    {
     "name": "stdout",
     "output_type": "stream",
     "text": [
      "Confusion Matrix:\n",
      "[[10720   240]\n",
      " [ 1540    20]]\n",
      "Epoch 16/100, Train Loss: 455.7757, Train Accuracy: 0.8904\n",
      "Epoch 16/100, Val Accuracy: 0.8578, Precision: 0.0769, Recall: 0.0128, AUC: 0.4955, Avg Metric: 0.3159\n"
     ]
    },
    {
     "name": "stderr",
     "output_type": "stream",
     "text": [
      "100%|██████████| 89/89 [06:01<00:00,  4.06s/it]\n"
     ]
    },
    {
     "name": "stdout",
     "output_type": "stream",
     "text": [
      "Confusion Matrix:\n",
      "[[5080 5880]\n",
      " [ 700  860]]\n",
      "Epoch 17/100, Train Loss: 454.0553, Train Accuracy: 0.8947\n",
      "Epoch 17/100, Val Accuracy: 0.4744, Precision: 0.1276, Recall: 0.5513, AUC: 0.5074, Avg Metric: 0.3844\n"
     ]
    },
    {
     "name": "stderr",
     "output_type": "stream",
     "text": [
      "100%|██████████| 89/89 [06:00<00:00,  4.05s/it]\n"
     ]
    },
    {
     "name": "stdout",
     "output_type": "stream",
     "text": [
      "Confusion Matrix:\n",
      "[[10700   260]\n",
      " [ 1500    60]]\n",
      "Epoch 18/100, Train Loss: 438.2871, Train Accuracy: 0.9039\n",
      "Epoch 18/100, Val Accuracy: 0.8594, Precision: 0.1875, Recall: 0.0385, AUC: 0.5074, Avg Metric: 0.3618\n"
     ]
    },
    {
     "name": "stderr",
     "output_type": "stream",
     "text": [
      "100%|██████████| 89/89 [06:01<00:00,  4.06s/it]\n"
     ]
    },
    {
     "name": "stdout",
     "output_type": "stream",
     "text": [
      "Confusion Matrix:\n",
      "[[10600   360]\n",
      " [ 1480    80]]\n",
      "Epoch 19/100, Train Loss: 427.7929, Train Accuracy: 0.9092\n",
      "Epoch 19/100, Val Accuracy: 0.8530, Precision: 0.1818, Recall: 0.0513, AUC: 0.5092, Avg Metric: 0.3620\n"
     ]
    },
    {
     "name": "stderr",
     "output_type": "stream",
     "text": [
      "100%|██████████| 89/89 [06:02<00:00,  4.07s/it]\n"
     ]
    },
    {
     "name": "stdout",
     "output_type": "stream",
     "text": [
      "Confusion Matrix:\n",
      "[[10540   420]\n",
      " [ 1480    80]]\n",
      "Epoch 20/100, Train Loss: 414.1100, Train Accuracy: 0.9067\n",
      "Epoch 20/100, Val Accuracy: 0.8482, Precision: 0.1600, Recall: 0.0513, AUC: 0.5065, Avg Metric: 0.3532\n"
     ]
    },
    {
     "name": "stderr",
     "output_type": "stream",
     "text": [
      "100%|██████████| 89/89 [06:00<00:00,  4.05s/it]\n"
     ]
    },
    {
     "name": "stdout",
     "output_type": "stream",
     "text": [
      "Confusion Matrix:\n",
      "[[10500   460]\n",
      " [ 1360   200]]\n",
      "Epoch 21/100, Train Loss: 397.7838, Train Accuracy: 0.9011\n",
      "Epoch 21/100, Val Accuracy: 0.8546, Precision: 0.3030, Recall: 0.1282, AUC: 0.5431, Avg Metric: 0.4286\n"
     ]
    },
    {
     "name": "stderr",
     "output_type": "stream",
     "text": [
      "100%|██████████| 89/89 [06:01<00:00,  4.06s/it]\n"
     ]
    },
    {
     "name": "stdout",
     "output_type": "stream",
     "text": [
      "Confusion Matrix:\n",
      "[[9560 1400]\n",
      " [1300  260]]\n",
      "Epoch 22/100, Train Loss: 375.2558, Train Accuracy: 0.9121\n",
      "Epoch 22/100, Val Accuracy: 0.7843, Precision: 0.1566, Recall: 0.1667, AUC: 0.5195, Avg Metric: 0.3692\n"
     ]
    },
    {
     "name": "stderr",
     "output_type": "stream",
     "text": [
      "100%|██████████| 89/89 [06:00<00:00,  4.06s/it]\n"
     ]
    },
    {
     "name": "stdout",
     "output_type": "stream",
     "text": [
      "Confusion Matrix:\n",
      "[[9720 1240]\n",
      " [1340  220]]\n",
      "Epoch 23/100, Train Loss: 376.2390, Train Accuracy: 0.9018\n",
      "Epoch 23/100, Val Accuracy: 0.7939, Precision: 0.1507, Recall: 0.1410, AUC: 0.5139, Avg Metric: 0.3619\n"
     ]
    },
    {
     "name": "stderr",
     "output_type": "stream",
     "text": [
      "100%|██████████| 89/89 [06:00<00:00,  4.05s/it]\n"
     ]
    },
    {
     "name": "stdout",
     "output_type": "stream",
     "text": [
      "Confusion Matrix:\n",
      "[[10460   500]\n",
      " [ 1540    20]]\n",
      "Epoch 24/100, Train Loss: 357.1448, Train Accuracy: 0.8996\n",
      "Epoch 24/100, Val Accuracy: 0.8371, Precision: 0.0385, Recall: 0.0128, AUC: 0.4836, Avg Metric: 0.2961\n"
     ]
    },
    {
     "name": "stderr",
     "output_type": "stream",
     "text": [
      "100%|██████████| 89/89 [06:02<00:00,  4.08s/it]\n"
     ]
    },
    {
     "name": "stdout",
     "output_type": "stream",
     "text": [
      "Confusion Matrix:\n",
      "[[10420   540]\n",
      " [ 1440   120]]\n",
      "Epoch 25/100, Train Loss: 329.6895, Train Accuracy: 0.9128\n",
      "Epoch 25/100, Val Accuracy: 0.8419, Precision: 0.1818, Recall: 0.0769, AUC: 0.5138, Avg Metric: 0.3669\n"
     ]
    },
    {
     "name": "stderr",
     "output_type": "stream",
     "text": [
      "100%|██████████| 89/89 [05:56<00:00,  4.00s/it]\n"
     ]
    },
    {
     "name": "stdout",
     "output_type": "stream",
     "text": [
      "Confusion Matrix:\n",
      "[[10600   360]\n",
      " [ 1400   160]]\n",
      "Epoch 26/100, Train Loss: 319.9134, Train Accuracy: 0.9191\n",
      "Epoch 26/100, Val Accuracy: 0.8594, Precision: 0.3077, Recall: 0.1026, AUC: 0.5349, Avg Metric: 0.4232\n"
     ]
    },
    {
     "name": "stderr",
     "output_type": "stream",
     "text": [
      "100%|██████████| 89/89 [05:52<00:00,  3.96s/it]\n"
     ]
    },
    {
     "name": "stdout",
     "output_type": "stream",
     "text": [
      "Confusion Matrix:\n",
      "[[8600 2360]\n",
      " [1000  560]]\n",
      "Epoch 27/100, Train Loss: 303.1804, Train Accuracy: 0.9209\n",
      "Epoch 27/100, Val Accuracy: 0.7316, Precision: 0.1918, Recall: 0.3590, AUC: 0.5718, Avg Metric: 0.4275\n"
     ]
    },
    {
     "name": "stderr",
     "output_type": "stream",
     "text": [
      "100%|██████████| 89/89 [05:53<00:00,  3.97s/it]\n"
     ]
    },
    {
     "name": "stdout",
     "output_type": "stream",
     "text": [
      "Confusion Matrix:\n",
      "[[10960     0]\n",
      " [ 1560     0]]\n",
      "Epoch 28/100, Train Loss: 287.7815, Train Accuracy: 0.9230\n",
      "Epoch 28/100, Val Accuracy: 0.8754, Precision: 0.0000, Recall: 0.0000, AUC: 0.5000, Avg Metric: 0.2918\n"
     ]
    },
    {
     "name": "stderr",
     "output_type": "stream",
     "text": [
      "100%|██████████| 89/89 [05:53<00:00,  3.97s/it]\n"
     ]
    },
    {
     "name": "stdout",
     "output_type": "stream",
     "text": [
      "Confusion Matrix:\n",
      "[[9600 1360]\n",
      " [1460  100]]\n",
      "Epoch 29/100, Train Loss: 264.3314, Train Accuracy: 0.9230\n",
      "Epoch 29/100, Val Accuracy: 0.7748, Precision: 0.0685, Recall: 0.0641, AUC: 0.4700, Avg Metric: 0.3025\n"
     ]
    },
    {
     "name": "stderr",
     "output_type": "stream",
     "text": [
      "100%|██████████| 89/89 [05:53<00:00,  3.97s/it]\n"
     ]
    },
    {
     "name": "stdout",
     "output_type": "stream",
     "text": [
      "Confusion Matrix:\n",
      "[[10120   840]\n",
      " [ 1520    40]]\n",
      "Epoch 30/100, Train Loss: 247.7530, Train Accuracy: 0.9387\n",
      "Epoch 30/100, Val Accuracy: 0.8115, Precision: 0.0455, Recall: 0.0256, AUC: 0.4745, Avg Metric: 0.2942\n"
     ]
    },
    {
     "name": "stderr",
     "output_type": "stream",
     "text": [
      "100%|██████████| 89/89 [05:53<00:00,  3.97s/it]\n"
     ]
    },
    {
     "name": "stdout",
     "output_type": "stream",
     "text": [
      "Confusion Matrix:\n",
      "[[8520 2440]\n",
      " [1320  240]]\n",
      "Epoch 31/100, Train Loss: 225.3331, Train Accuracy: 0.9415\n",
      "Epoch 31/100, Val Accuracy: 0.6997, Precision: 0.0896, Recall: 0.1538, AUC: 0.4656, Avg Metric: 0.3144\n",
      "Early stopping triggered\n"
     ]
    }
   ],
   "source": [
    "trainer = Trainer_for_resnet18(\n",
    "    model=model,\n",
    "    criterion=criterion,\n",
    "    optimizer=optimizer,\n",
    "    train_dl=train_dl,\n",
    "    val_dl=val_dl,\n",
    "    train_dataset=train_dataset,\n",
    "    val_dataset=val_dataset,\n",
    "    device=device,\n",
    "    num_epochs=100,\n",
    "    patience=10,\n",
    "    threshold=0.5,\n",
    "    save_path=f\"saved_models/{model_name}.pth\"\n",
    ")\n",
    "\n",
    "# Start training\n",
    "trainer.train()"
   ]
  }
 ],
 "metadata": {
  "kernelspec": {
   "display_name": "myenv_1",
   "language": "python",
   "name": "python3"
  },
  "language_info": {
   "codemirror_mode": {
    "name": "ipython",
    "version": 3
   },
   "file_extension": ".py",
   "mimetype": "text/x-python",
   "name": "python",
   "nbconvert_exporter": "python",
   "pygments_lexer": "ipython3",
   "version": "3.11.0"
  }
 },
 "nbformat": 4,
 "nbformat_minor": 2
}
